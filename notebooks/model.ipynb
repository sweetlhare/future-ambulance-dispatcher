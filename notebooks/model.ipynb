{
 "cells": [
  {
   "cell_type": "code",
   "execution_count": 147,
   "metadata": {},
   "outputs": [],
   "source": [
    "import pandas as pd\n",
    "from glob import glob\n",
    "from tqdm import tqdm\n",
    "import numpy as np\n",
    "from datetime import timedelta\n",
    "from haversine import haversine\n",
    "from random import randrange\n",
    "from datetime import timedelta\n",
    "from datetime import datetime\n",
    "\n",
    "from catboost import CatBoostClassifier, CatBoostRegressor\n",
    "from sklearn.model_selection import train_test_split\n",
    "from sklearn.metrics import *\n",
    "\n",
    "import datetime as dt\n",
    "\n",
    "from datetime import date\n",
    "import holidays"
   ]
  },
  {
   "cell_type": "code",
   "execution_count": 365,
   "metadata": {},
   "outputs": [],
   "source": [
    "data = pd.read_csv('data_2022_processed.csv')\n",
    "random_data = pd.read_csv('random_data_2022_processed.csv')"
   ]
  },
  {
   "cell_type": "code",
   "execution_count": 88,
   "metadata": {},
   "outputs": [],
   "source": [
    "may_data = pd.read_csv('may_data.csv')"
   ]
  },
  {
   "cell_type": "markdown",
   "metadata": {},
   "source": [
    "# Обучение модели"
   ]
  },
  {
   "cell_type": "markdown",
   "metadata": {},
   "source": [
    "## Подготовка данных"
   ]
  },
  {
   "cell_type": "code",
   "execution_count": 89,
   "metadata": {},
   "outputs": [],
   "source": [
    "random_data.accept_datetime = pd.to_datetime(random_data.accept_datetime)\n",
    "may_data.accept_datetime = pd.to_datetime(may_data.accept_datetime)"
   ]
  },
  {
   "cell_type": "code",
   "execution_count": 90,
   "metadata": {},
   "outputs": [],
   "source": [
    "may_data['hour'] = may_data.accept_datetime.apply(lambda x: x.hour)\n",
    "random_data['hour'] = random_data.accept_datetime.apply(lambda x: x.hour)"
   ]
  },
  {
   "cell_type": "code",
   "execution_count": 370,
   "metadata": {},
   "outputs": [],
   "source": [
    "data.accept_datetime = pd.to_datetime(data.accept_datetime)\n",
    "data['hour'] = data.accept_datetime.apply(lambda x: x.hour)"
   ]
  },
  {
   "cell_type": "code",
   "execution_count": 91,
   "metadata": {},
   "outputs": [],
   "source": [
    "random_data = random_data.rename(columns={'latitude':'latitude_x', 'longitude':'longitude_x'})"
   ]
  },
  {
   "cell_type": "code",
   "execution_count": 92,
   "metadata": {},
   "outputs": [],
   "source": [
    "may_random_data = pd.DataFrame()\n",
    "\n",
    "for i, val in may_data.groupby('substation').accept_datetime.count().reset_index().iterrows():\n",
    "    \n",
    "    temp_may_random_data = random_data[(random_data.substation == val['substation'])\n",
    "                                       &(random_data.accept_datetime > may_data.accept_datetime.min())].sample(val['accept_datetime'])\n",
    "    temp_may_random_data[['latitude_y', 'longitude_y', 'dist']] \\\n",
    "    = may_data.loc[may_data.substation == val['substation'], ['latitude_y', 'longitude_y', 'dist']].values\n",
    "    \n",
    "    may_random_data = pd.concat([may_random_data,\n",
    "                                 temp_may_random_data],\n",
    "                                ignore_index=True)"
   ]
  },
  {
   "cell_type": "code",
   "execution_count": 93,
   "metadata": {},
   "outputs": [
    {
     "name": "stderr",
     "output_type": "stream",
     "text": [
      "/Users/hare/opt/anaconda3/envs/champ/lib/python3.9/site-packages/pandas/core/indexing.py:1732: SettingWithCopyWarning: \n",
      "A value is trying to be set on a copy of a slice from a DataFrame\n",
      "\n",
      "See the caveats in the documentation: https://pandas.pydata.org/pandas-docs/stable/user_guide/indexing.html#returning-a-view-versus-a-copy\n",
      "  self._setitem_single_block(indexer, value, name)\n"
     ]
    }
   ],
   "source": [
    "for i in range(len(may_random_data)):\n",
    "    may_random_data.latitude_y.iloc[i] += np.random.rand() / 1000\n",
    "    may_random_data.longitude_y.iloc[i] += np.random.rand() / 1000\n",
    "    may_random_data.dist.iloc[i] += np.random.rand()*10"
   ]
  },
  {
   "cell_type": "code",
   "execution_count": 121,
   "metadata": {
    "tags": []
   },
   "outputs": [],
   "source": [
    "weather = pd.read_csv('weather_2022.csv', encoding='utf-8', skiprows=6, sep=';', index_col=0)\n",
    "\n",
    "weather_columns = weather.columns[1:]\n",
    "weather = weather.drop(weather.columns[-1], axis=1)\n",
    "weather.columns = weather_columns\n",
    "\n",
    "weather = weather.reset_index().rename(columns={'index':'datetime'})\n",
    "weather['datetime'] = pd.to_datetime(weather['datetime'])\n",
    "weather = weather.sort_values('datetime').reset_index(drop=True)\n",
    "\n",
    "weather = weather[['datetime', 'T', 'Tg', 'Po', 'Pa', 'U', 'ff3']]\n",
    "\n",
    "weather.datetime = pd.to_datetime(weather.datetime)"
   ]
  },
  {
   "cell_type": "code",
   "execution_count": 123,
   "metadata": {},
   "outputs": [
    {
     "name": "stderr",
     "output_type": "stream",
     "text": [
      "100%|██████████████████████████████████████| 1372/1372 [00:01<00:00, 980.22it/s]\n"
     ]
    }
   ],
   "source": [
    "weather_for_data = pd.DataFrame()\n",
    "\n",
    "for adt in tqdm(may_random_data['accept_datetime']):\n",
    "    weather_for_data = pd.concat([weather_for_data, weather[weather.datetime <= adt].iloc[-1:]],\n",
    "                                 ignore_index=True)\n",
    "    \n",
    "may_random_data[weather_for_data.columns[1:]] = weather_for_data[weather_for_data.columns[1:]]"
   ]
  },
  {
   "cell_type": "code",
   "execution_count": 125,
   "metadata": {},
   "outputs": [
    {
     "name": "stderr",
     "output_type": "stream",
     "text": [
      "100%|██████████████████████████████████████| 1372/1372 [00:01<00:00, 990.69it/s]\n"
     ]
    }
   ],
   "source": [
    "weather_for_data = pd.DataFrame()\n",
    "\n",
    "for adt in tqdm(may_data['accept_datetime']):\n",
    "    weather_for_data = pd.concat([weather_for_data, weather[weather.datetime <= adt].iloc[-1:]],\n",
    "                                 ignore_index=True)\n",
    "    \n",
    "may_data[weather_for_data.columns[1:]] = weather_for_data[weather_for_data.columns[1:]]"
   ]
  },
  {
   "cell_type": "code",
   "execution_count": 382,
   "metadata": {},
   "outputs": [],
   "source": [
    "data.accept_datetime = data.accept_datetime.apply(lambda x: pd.to_datetime(str(x)[:-6]))"
   ]
  },
  {
   "cell_type": "code",
   "execution_count": 383,
   "metadata": {},
   "outputs": [
    {
     "name": "stderr",
     "output_type": "stream",
     "text": [
      "100%|████████████████████████████████████| 37258/37258 [00:39<00:00, 950.76it/s]\n"
     ]
    }
   ],
   "source": [
    "weather_for_data = pd.DataFrame()\n",
    "\n",
    "for adt in tqdm(data['accept_datetime']):\n",
    "    weather_for_data = pd.concat([weather_for_data, weather[weather.datetime <= adt].iloc[-1:]],\n",
    "                                 ignore_index=True)\n",
    "    \n",
    "data[weather_for_data.columns[1:]] = weather_for_data[weather_for_data.columns[1:]]"
   ]
  },
  {
   "cell_type": "markdown",
   "metadata": {},
   "source": [
    "## Предсказание вызова"
   ]
  },
  {
   "cell_type": "code",
   "execution_count": 356,
   "metadata": {},
   "outputs": [],
   "source": [
    "may_data['call_target'] = 1\n",
    "may_random_data['call_target'] = 0\n",
    "\n",
    "train_data = pd.concat([may_data, may_random_data])[[\n",
    "    'hour', 'weekday', 'day', 'week', 'month', 'holiday', \n",
    "    'T', 'Tg', 'Po', 'Pa', 'U', 'ff3', 'substation', 'call_target',\n",
    "    'latitude_x', 'longitude_x', 'latitude_y', 'longitude_y', 'dist'\n",
    "]]\n",
    "\n",
    "\n",
    "\n",
    "cat_features = ['substation', 'holiday']\n",
    "train_data[cat_features] = train_data[cat_features].fillna('')"
   ]
  },
  {
   "cell_type": "code",
   "execution_count": 357,
   "metadata": {},
   "outputs": [],
   "source": [
    "X_train, X_val, y_train, y_val = train_test_split(train_data.drop(['call_target'], axis=1),\n",
    "                                                  train_data['call_target'],\n",
    "                                                  stratify=train_data.call_target,\n",
    "                                                  # stratify=train_data['call_target'].astype(str) + '+' + train_data['substation'],\n",
    "                                                  test_size=0.25)"
   ]
  },
  {
   "cell_type": "code",
   "execution_count": 358,
   "metadata": {},
   "outputs": [
    {
     "name": "stdout",
     "output_type": "stream",
     "text": [
      "0:\tlearn: 0.6795429\ttest: 0.6801924\tbest: 0.6801924 (0)\ttotal: 5.49ms\tremaining: 5.49s\n",
      "100:\tlearn: 0.3502050\ttest: 0.3799159\tbest: 0.3799159 (100)\ttotal: 336ms\tremaining: 2.99s\n",
      "200:\tlearn: 0.3077293\ttest: 0.3563374\tbest: 0.3563374 (200)\ttotal: 683ms\tremaining: 2.71s\n",
      "300:\tlearn: 0.2733137\ttest: 0.3368174\tbest: 0.3368174 (300)\ttotal: 1.08s\tremaining: 2.52s\n",
      "400:\tlearn: 0.2451141\ttest: 0.3222202\tbest: 0.3221897 (399)\ttotal: 1.45s\tremaining: 2.17s\n",
      "500:\tlearn: 0.2211669\ttest: 0.3063838\tbest: 0.3063309 (499)\ttotal: 1.83s\tremaining: 1.82s\n",
      "600:\tlearn: 0.2020420\ttest: 0.2939445\tbest: 0.2939445 (600)\ttotal: 2.15s\tremaining: 1.43s\n",
      "700:\tlearn: 0.1890799\ttest: 0.2888283\tbest: 0.2888283 (700)\ttotal: 2.58s\tremaining: 1.1s\n",
      "800:\tlearn: 0.1758952\ttest: 0.2825294\tbest: 0.2824610 (796)\ttotal: 2.97s\tremaining: 738ms\n",
      "900:\tlearn: 0.1655567\ttest: 0.2799365\tbest: 0.2799250 (899)\ttotal: 3.34s\tremaining: 367ms\n",
      "999:\tlearn: 0.1562933\ttest: 0.2768069\tbest: 0.2767194 (996)\ttotal: 3.7s\tremaining: 0us\n",
      "\n",
      "bestTest = 0.2767193984\n",
      "bestIteration = 996\n",
      "\n",
      "Shrink model to first 997 iterations.\n"
     ]
    },
    {
     "data": {
      "text/plain": [
       "<catboost.core.CatBoostClassifier at 0x1b68249d0>"
      ]
     },
     "execution_count": 358,
     "metadata": {},
     "output_type": "execute_result"
    }
   ],
   "source": [
    "model = CatBoostClassifier(verbose=100, cat_features=cat_features,\n",
    "                           loss_function='MultiClassOneVsAll'\n",
    "                          )\n",
    "model.fit(X_train, y_train, eval_set=(X_val, y_val))"
   ]
  },
  {
   "cell_type": "code",
   "execution_count": 359,
   "metadata": {},
   "outputs": [],
   "source": [
    "model.save_model('models/call')"
   ]
  },
  {
   "cell_type": "code",
   "execution_count": 360,
   "metadata": {},
   "outputs": [
    {
     "name": "stdout",
     "output_type": "stream",
     "text": [
      "              precision    recall  f1-score   support\n",
      "\n",
      "           0       0.90      0.87      0.88       343\n",
      "           1       0.87      0.90      0.89       343\n",
      "\n",
      "    accuracy                           0.88       686\n",
      "   macro avg       0.89      0.88      0.88       686\n",
      "weighted avg       0.89      0.88      0.88       686\n",
      "\n"
     ]
    }
   ],
   "source": [
    "print(classification_report(y_val, model.predict(X_val)))"
   ]
  },
  {
   "cell_type": "code",
   "execution_count": 361,
   "metadata": {},
   "outputs": [],
   "source": [
    "fip = pd.DataFrame()\n",
    "fip['feature'] = model.feature_names_\n",
    "fip['importance'] = model.get_feature_importance()\n",
    "fip = fip.sort_values('importance', ascending=False)"
   ]
  },
  {
   "cell_type": "code",
   "execution_count": 362,
   "metadata": {},
   "outputs": [
    {
     "data": {
      "text/html": [
       "<div>\n",
       "<style scoped>\n",
       "    .dataframe tbody tr th:only-of-type {\n",
       "        vertical-align: middle;\n",
       "    }\n",
       "\n",
       "    .dataframe tbody tr th {\n",
       "        vertical-align: top;\n",
       "    }\n",
       "\n",
       "    .dataframe thead th {\n",
       "        text-align: right;\n",
       "    }\n",
       "</style>\n",
       "<table border=\"1\" class=\"dataframe\">\n",
       "  <thead>\n",
       "    <tr style=\"text-align: right;\">\n",
       "      <th></th>\n",
       "      <th>feature</th>\n",
       "      <th>importance</th>\n",
       "    </tr>\n",
       "  </thead>\n",
       "  <tbody>\n",
       "    <tr>\n",
       "      <th>17</th>\n",
       "      <td>dist</td>\n",
       "      <td>41.964064</td>\n",
       "    </tr>\n",
       "    <tr>\n",
       "      <th>15</th>\n",
       "      <td>latitude_y</td>\n",
       "      <td>13.327498</td>\n",
       "    </tr>\n",
       "    <tr>\n",
       "      <th>16</th>\n",
       "      <td>longitude_y</td>\n",
       "      <td>10.267830</td>\n",
       "    </tr>\n",
       "    <tr>\n",
       "      <th>13</th>\n",
       "      <td>latitude_x</td>\n",
       "      <td>6.196968</td>\n",
       "    </tr>\n",
       "    <tr>\n",
       "      <th>12</th>\n",
       "      <td>substation</td>\n",
       "      <td>5.744491</td>\n",
       "    </tr>\n",
       "    <tr>\n",
       "      <th>0</th>\n",
       "      <td>hour</td>\n",
       "      <td>5.680550</td>\n",
       "    </tr>\n",
       "    <tr>\n",
       "      <th>14</th>\n",
       "      <td>longitude_x</td>\n",
       "      <td>4.880584</td>\n",
       "    </tr>\n",
       "    <tr>\n",
       "      <th>2</th>\n",
       "      <td>day</td>\n",
       "      <td>1.989463</td>\n",
       "    </tr>\n",
       "    <tr>\n",
       "      <th>6</th>\n",
       "      <td>T</td>\n",
       "      <td>1.775277</td>\n",
       "    </tr>\n",
       "    <tr>\n",
       "      <th>8</th>\n",
       "      <td>Po</td>\n",
       "      <td>1.687345</td>\n",
       "    </tr>\n",
       "    <tr>\n",
       "      <th>1</th>\n",
       "      <td>weekday</td>\n",
       "      <td>1.589356</td>\n",
       "    </tr>\n",
       "    <tr>\n",
       "      <th>9</th>\n",
       "      <td>Pa</td>\n",
       "      <td>1.564688</td>\n",
       "    </tr>\n",
       "    <tr>\n",
       "      <th>10</th>\n",
       "      <td>U</td>\n",
       "      <td>1.379931</td>\n",
       "    </tr>\n",
       "    <tr>\n",
       "      <th>11</th>\n",
       "      <td>ff3</td>\n",
       "      <td>0.788726</td>\n",
       "    </tr>\n",
       "    <tr>\n",
       "      <th>5</th>\n",
       "      <td>holiday</td>\n",
       "      <td>0.562365</td>\n",
       "    </tr>\n",
       "    <tr>\n",
       "      <th>3</th>\n",
       "      <td>week</td>\n",
       "      <td>0.444728</td>\n",
       "    </tr>\n",
       "    <tr>\n",
       "      <th>7</th>\n",
       "      <td>Tg</td>\n",
       "      <td>0.156137</td>\n",
       "    </tr>\n",
       "    <tr>\n",
       "      <th>4</th>\n",
       "      <td>month</td>\n",
       "      <td>0.000000</td>\n",
       "    </tr>\n",
       "  </tbody>\n",
       "</table>\n",
       "</div>"
      ],
      "text/plain": [
       "        feature  importance\n",
       "17         dist   41.964064\n",
       "15   latitude_y   13.327498\n",
       "16  longitude_y   10.267830\n",
       "13   latitude_x    6.196968\n",
       "12   substation    5.744491\n",
       "0          hour    5.680550\n",
       "14  longitude_x    4.880584\n",
       "2           day    1.989463\n",
       "6             T    1.775277\n",
       "8            Po    1.687345\n",
       "1       weekday    1.589356\n",
       "9            Pa    1.564688\n",
       "10            U    1.379931\n",
       "11          ff3    0.788726\n",
       "5       holiday    0.562365\n",
       "3          week    0.444728\n",
       "7            Tg    0.156137\n",
       "4         month    0.000000"
      ]
     },
     "execution_count": 362,
     "metadata": {},
     "output_type": "execute_result"
    }
   ],
   "source": [
    "fip"
   ]
  },
  {
   "cell_type": "markdown",
   "metadata": {},
   "source": [
    "## Инференс предсказаний вызова"
   ]
  },
  {
   "cell_type": "code",
   "execution_count": 349,
   "metadata": {},
   "outputs": [],
   "source": [
    "# left_up = (56.395527, 43.787622)\n",
    "# left_low = (56.194032, 43.787622)\n",
    "\n",
    "# right_up = (56.395527, 44.087140)\n",
    "# right_low = (56.194032, 44.087140)\n",
    "\n",
    "squares = []\n",
    "\n",
    "for i in range(0, 50):\n",
    "    for j in range(0, 50):\n",
    "        squares.append((56.194032 + i * (56.395527 - 56.194032) / 50,\n",
    "                        43.787622 + j * (44.227140 - 43.787622) / 50))"
   ]
  },
  {
   "cell_type": "code",
   "execution_count": 351,
   "metadata": {
    "tags": []
   },
   "outputs": [],
   "source": [
    "test = pd.DataFrame()\n",
    "\n",
    "test['coords'] = squares\n",
    "test['latitude_y'] = test.coords.apply(lambda x: x[0])\n",
    "test['longitude_y'] = test.coords.apply(lambda x: x[1])\n",
    "\n",
    "test['datetime'] = dt.datetime.now()\n",
    "test['hour'] = test.datetime.apply(lambda x: x.hour)\n",
    "test['weekday'] = test.datetime.apply(lambda x: x.weekday())\n",
    "test['day'] = test.datetime.apply(lambda x: x.day)\n",
    "test['week'] = test.datetime.apply(lambda x: x.week)\n",
    "test['month'] = test.datetime.apply(lambda x: x.month)\n",
    "test['holiday'] = test.datetime.apply(lambda x: holidays.RUS().get(x))\n",
    "test['holiday'] = test['holiday'].fillna('')\n",
    "\n",
    "for col in weather.columns[1:]:\n",
    "    test[col] = weather.loc[weather.datetime <= test['datetime'].iloc[0], col].iloc[-1]"
   ]
  },
  {
   "cell_type": "code",
   "execution_count": 352,
   "metadata": {},
   "outputs": [],
   "source": [
    "substations = pd.read_excel('substations.xlsx').rename(columns={'name':'substation'})\n",
    "substations['latitude_x'] = substations.coords.apply(lambda x: float(x.split(',')[0]))\n",
    "substations['longitude_x'] = substations.coords.apply(lambda x: float(x.split(',')[1]))\n",
    "substations.coords = substations[['latitude_x', 'longitude_x']].apply(lambda x: tuple([x[0], x[1]]), axis=1)"
   ]
  },
  {
   "cell_type": "code",
   "execution_count": 353,
   "metadata": {},
   "outputs": [],
   "source": [
    "temp = pd.DataFrame()\n",
    "for i in range(len(substations)):\n",
    "    temp[substations.substation.iloc[i]] = test.coords.apply(lambda x: haversine(x, substations.coords.iloc[i]))\n",
    "    \n",
    "temp = temp.T\n",
    "\n",
    "nearest_subs = []\n",
    "for i in range(temp.shape[1]):\n",
    "    nearest_subs.append(temp[i].sort_values().index[0])\n",
    "    \n",
    "test['substation'] = nearest_subs\n",
    "test = pd.merge(test, substations, on='substation', how='left')\n",
    "test['dist'] = test[['coords_x', 'coords_y']].apply(lambda x: haversine(x[0], x[1]), axis=1)\n",
    "test = test.drop('coords_y', axis=1).rename(columns={'coords_x': 'coords'})"
   ]
  },
  {
   "cell_type": "code",
   "execution_count": 355,
   "metadata": {},
   "outputs": [],
   "source": [
    "model.predict_proba(test[model.feature_names_])[:, -1]"
   ]
  },
  {
   "cell_type": "code",
   "execution_count": 269,
   "metadata": {},
   "outputs": [],
   "source": [
    "test_res = pd.DataFrame()\n",
    "test_res['substation'] = test.substation\n",
    "test_res['latitude'] = test.latitude_y\n",
    "test_res['longitude'] = test.longitude_y\n",
    "test_res['call_target'] = model.predict_proba(test[model.feature_names_])[:, -1]"
   ]
  },
  {
   "cell_type": "code",
   "execution_count": 270,
   "metadata": {},
   "outputs": [],
   "source": [
    "test_res.to_csv('test_res.csv', index=False)"
   ]
  },
  {
   "cell_type": "code",
   "execution_count": 271,
   "metadata": {},
   "outputs": [
    {
     "data": {
      "text/html": [
       "<div>\n",
       "<style scoped>\n",
       "    .dataframe tbody tr th:only-of-type {\n",
       "        vertical-align: middle;\n",
       "    }\n",
       "\n",
       "    .dataframe tbody tr th {\n",
       "        vertical-align: top;\n",
       "    }\n",
       "\n",
       "    .dataframe thead th {\n",
       "        text-align: right;\n",
       "    }\n",
       "</style>\n",
       "<table border=\"1\" class=\"dataframe\">\n",
       "  <thead>\n",
       "    <tr style=\"text-align: right;\">\n",
       "      <th></th>\n",
       "      <th>substation</th>\n",
       "      <th>latitude</th>\n",
       "      <th>longitude</th>\n",
       "      <th>call_target</th>\n",
       "    </tr>\n",
       "  </thead>\n",
       "  <tbody>\n",
       "    <tr>\n",
       "      <th>0</th>\n",
       "      <td>ПСМП №1</td>\n",
       "      <td>56.194032</td>\n",
       "      <td>43.787622</td>\n",
       "      <td>0.057267</td>\n",
       "    </tr>\n",
       "    <tr>\n",
       "      <th>1</th>\n",
       "      <td>ПСМП №1</td>\n",
       "      <td>56.194032</td>\n",
       "      <td>43.796412</td>\n",
       "      <td>0.092618</td>\n",
       "    </tr>\n",
       "    <tr>\n",
       "      <th>2</th>\n",
       "      <td>ПСМП №1</td>\n",
       "      <td>56.194032</td>\n",
       "      <td>43.805203</td>\n",
       "      <td>0.077473</td>\n",
       "    </tr>\n",
       "    <tr>\n",
       "      <th>3</th>\n",
       "      <td>ПСМП №1</td>\n",
       "      <td>56.194032</td>\n",
       "      <td>43.813993</td>\n",
       "      <td>0.078966</td>\n",
       "    </tr>\n",
       "    <tr>\n",
       "      <th>4</th>\n",
       "      <td>ПСМП №1</td>\n",
       "      <td>56.194032</td>\n",
       "      <td>43.822783</td>\n",
       "      <td>0.101174</td>\n",
       "    </tr>\n",
       "    <tr>\n",
       "      <th>...</th>\n",
       "      <td>...</td>\n",
       "      <td>...</td>\n",
       "      <td>...</td>\n",
       "      <td>...</td>\n",
       "    </tr>\n",
       "    <tr>\n",
       "      <th>2495</th>\n",
       "      <td>Борская ЦРБ СМП Затон ППК</td>\n",
       "      <td>56.391497</td>\n",
       "      <td>44.183188</td>\n",
       "      <td>0.015975</td>\n",
       "    </tr>\n",
       "    <tr>\n",
       "      <th>2496</th>\n",
       "      <td>Борская ЦРБ СМП Затон ППК</td>\n",
       "      <td>56.391497</td>\n",
       "      <td>44.191979</td>\n",
       "      <td>0.013621</td>\n",
       "    </tr>\n",
       "    <tr>\n",
       "      <th>2497</th>\n",
       "      <td>Борская ЦРБ СМП Затон ППК</td>\n",
       "      <td>56.391497</td>\n",
       "      <td>44.200769</td>\n",
       "      <td>0.011822</td>\n",
       "    </tr>\n",
       "    <tr>\n",
       "      <th>2498</th>\n",
       "      <td>Борская ЦРБ СМП Затон ППК</td>\n",
       "      <td>56.391497</td>\n",
       "      <td>44.209559</td>\n",
       "      <td>0.011084</td>\n",
       "    </tr>\n",
       "    <tr>\n",
       "      <th>2499</th>\n",
       "      <td>Борская ЦРБ СМП Затон ППК</td>\n",
       "      <td>56.391497</td>\n",
       "      <td>44.218350</td>\n",
       "      <td>0.010202</td>\n",
       "    </tr>\n",
       "  </tbody>\n",
       "</table>\n",
       "<p>2500 rows × 4 columns</p>\n",
       "</div>"
      ],
      "text/plain": [
       "                     substation   latitude  longitude  call_target\n",
       "0                       ПСМП №1  56.194032  43.787622     0.057267\n",
       "1                       ПСМП №1  56.194032  43.796412     0.092618\n",
       "2                       ПСМП №1  56.194032  43.805203     0.077473\n",
       "3                       ПСМП №1  56.194032  43.813993     0.078966\n",
       "4                       ПСМП №1  56.194032  43.822783     0.101174\n",
       "...                         ...        ...        ...          ...\n",
       "2495  Борская ЦРБ СМП Затон ППК  56.391497  44.183188     0.015975\n",
       "2496  Борская ЦРБ СМП Затон ППК  56.391497  44.191979     0.013621\n",
       "2497  Борская ЦРБ СМП Затон ППК  56.391497  44.200769     0.011822\n",
       "2498  Борская ЦРБ СМП Затон ППК  56.391497  44.209559     0.011084\n",
       "2499  Борская ЦРБ СМП Затон ППК  56.391497  44.218350     0.010202\n",
       "\n",
       "[2500 rows x 4 columns]"
      ]
     },
     "execution_count": 271,
     "metadata": {},
     "output_type": "execute_result"
    }
   ],
   "source": [
    "test_res"
   ]
  },
  {
   "cell_type": "code",
   "execution_count": null,
   "metadata": {},
   "outputs": [],
   "source": []
  },
  {
   "cell_type": "code",
   "execution_count": null,
   "metadata": {},
   "outputs": [],
   "source": []
  },
  {
   "cell_type": "code",
   "execution_count": null,
   "metadata": {},
   "outputs": [],
   "source": []
  },
  {
   "cell_type": "code",
   "execution_count": 41,
   "metadata": {},
   "outputs": [],
   "source": [
    "# substation\n",
    "# данные по времени\n",
    "# погода (через яндекс апи, брать только НН, каждую минуту)\n",
    "# road_time - накинуть эвристику"
   ]
  },
  {
   "cell_type": "code",
   "execution_count": 272,
   "metadata": {},
   "outputs": [],
   "source": [
    "# import datetime as dt\n",
    "\n",
    "# # Save the current time to a variable ('t')\n",
    "# t = dt.datetime.now()\n",
    "\n",
    "# while True:\n",
    "#     delta = dt.datetime.now()-t\n",
    "#     if delta.seconds >= 60:\n",
    "#         print(\"1 Min\")\n",
    "#         # Update 't' variable to new time\n",
    "#         t = dt.datetime.now()"
   ]
  },
  {
   "cell_type": "code",
   "execution_count": null,
   "metadata": {},
   "outputs": [],
   "source": []
  },
  {
   "cell_type": "markdown",
   "metadata": {
    "tags": []
   },
   "source": [
    "## Предсказание тяжести"
   ]
  },
  {
   "cell_type": "code",
   "execution_count": 445,
   "metadata": {},
   "outputs": [],
   "source": [
    "train_data = data[[\n",
    "    'hour', 'weekday', 'day', 'week', 'month', 'holiday', \n",
    "    'T', 'Tg', 'Po', 'Pa', 'U', 'ff3', 'substation',\n",
    "    'who', 'calling', 'type', 'occasion', 'result'\n",
    "]].copy()\n",
    "\n",
    "cat_features = ['substation', 'holiday', 'who', 'calling', 'type', 'occasion']\n",
    "train_data[cat_features] = train_data[cat_features].fillna('')"
   ]
  },
  {
   "cell_type": "code",
   "execution_count": 446,
   "metadata": {},
   "outputs": [],
   "source": [
    "first_occasions = pd.read_csv('Первичные признаки - Лист1.csv')\n",
    "first_occasions = first_occasions.rename(columns={'Тяжесть (0 - норма, 1 - тяжелое)':'heaviness',\n",
    "                                                  'Признаки':'occasion'})\n",
    "first_occasions = first_occasions[['occasion', 'heaviness']]\n",
    "first_occasions = first_occasions[first_occasions.heaviness.notnull()]"
   ]
  },
  {
   "cell_type": "code",
   "execution_count": 447,
   "metadata": {},
   "outputs": [],
   "source": [
    "train_data = pd.merge(train_data, first_occasions, how='left', on='occasion')"
   ]
  },
  {
   "cell_type": "code",
   "execution_count": 448,
   "metadata": {},
   "outputs": [],
   "source": [
    "train_data.loc[train_data['type'] == 'неотложное состояние', 'heaviness'] = 1"
   ]
  },
  {
   "cell_type": "code",
   "execution_count": 449,
   "metadata": {},
   "outputs": [],
   "source": [
    "data_for_demo = data[train_data.heaviness.notnull()].reset_index(drop=True)"
   ]
  },
  {
   "cell_type": "code",
   "execution_count": 450,
   "metadata": {},
   "outputs": [],
   "source": [
    "train_data = train_data[train_data.heaviness.notnull()].reset_index(drop=True)"
   ]
  },
  {
   "cell_type": "code",
   "execution_count": 389,
   "metadata": {},
   "outputs": [],
   "source": [
    "# targets = ['result', 'heaviness']"
   ]
  },
  {
   "cell_type": "code",
   "execution_count": 390,
   "metadata": {},
   "outputs": [],
   "source": [
    "X_train, X_val, y_train, y_val = train_test_split(train_data[train_data.heaviness.notnull()].drop(['result', 'heaviness'], axis=1),\n",
    "                                                  train_data[train_data.heaviness.notnull()]['heaviness'],\n",
    "                                                  stratify=train_data[train_data.heaviness.notnull()]['heaviness'],\n",
    "                                                  test_size=0.15)"
   ]
  },
  {
   "cell_type": "code",
   "execution_count": 391,
   "metadata": {},
   "outputs": [
    {
     "name": "stdout",
     "output_type": "stream",
     "text": [
      "Learning rate set to 0.073386\n",
      "0:\tlearn: 0.5253449\ttest: 0.5253971\tbest: 0.5253971 (0)\ttotal: 20.7ms\tremaining: 20.7s\n",
      "100:\tlearn: 0.0015805\ttest: 0.0003141\tbest: 0.0003141 (100)\ttotal: 1.75s\tremaining: 15.5s\n",
      "200:\tlearn: 0.0013964\ttest: 0.0002579\tbest: 0.0002579 (200)\ttotal: 3.26s\tremaining: 12.9s\n",
      "300:\tlearn: 0.0013835\ttest: 0.0002594\tbest: 0.0002579 (200)\ttotal: 4.44s\tremaining: 10.3s\n",
      "400:\tlearn: 0.0013832\ttest: 0.0002592\tbest: 0.0002579 (200)\ttotal: 5.7s\tremaining: 8.51s\n",
      "500:\tlearn: 0.0013831\ttest: 0.0002592\tbest: 0.0002579 (200)\ttotal: 6.84s\tremaining: 6.82s\n",
      "600:\tlearn: 0.0013827\ttest: 0.0002591\tbest: 0.0002579 (200)\ttotal: 8.02s\tremaining: 5.33s\n",
      "700:\tlearn: 0.0013822\ttest: 0.0002589\tbest: 0.0002579 (200)\ttotal: 9.19s\tremaining: 3.92s\n",
      "800:\tlearn: 0.0013818\ttest: 0.0002589\tbest: 0.0002579 (200)\ttotal: 10.4s\tremaining: 2.58s\n",
      "900:\tlearn: 0.0013812\ttest: 0.0002588\tbest: 0.0002579 (200)\ttotal: 11.5s\tremaining: 1.27s\n",
      "999:\tlearn: 0.0013807\ttest: 0.0002587\tbest: 0.0002579 (200)\ttotal: 12.7s\tremaining: 0us\n",
      "\n",
      "bestTest = 0.0002579419015\n",
      "bestIteration = 200\n",
      "\n",
      "Shrink model to first 201 iterations.\n"
     ]
    },
    {
     "data": {
      "text/plain": [
       "<catboost.core.CatBoostClassifier at 0x1b670cf10>"
      ]
     },
     "execution_count": 391,
     "metadata": {},
     "output_type": "execute_result"
    }
   ],
   "source": [
    "model = CatBoostClassifier(verbose=100, cat_features=cat_features)\n",
    "model.fit(X_train, y_train, eval_set=(X_val, y_val))"
   ]
  },
  {
   "cell_type": "code",
   "execution_count": 392,
   "metadata": {},
   "outputs": [
    {
     "name": "stdout",
     "output_type": "stream",
     "text": [
      "              precision    recall  f1-score   support\n",
      "\n",
      "         0.0       1.00      1.00      1.00       361\n",
      "         1.0       1.00      1.00      1.00      4927\n",
      "\n",
      "    accuracy                           1.00      5288\n",
      "   macro avg       1.00      1.00      1.00      5288\n",
      "weighted avg       1.00      1.00      1.00      5288\n",
      "\n"
     ]
    }
   ],
   "source": [
    "print(classification_report(y_val, model.predict(X_val)))"
   ]
  },
  {
   "cell_type": "code",
   "execution_count": 393,
   "metadata": {},
   "outputs": [],
   "source": [
    "model.save_model('models/heaviness')"
   ]
  },
  {
   "cell_type": "code",
   "execution_count": 403,
   "metadata": {},
   "outputs": [],
   "source": [
    "good_results = list(train_data.result.value_counts().iloc[:13].index)"
   ]
  },
  {
   "cell_type": "code",
   "execution_count": 404,
   "metadata": {},
   "outputs": [],
   "source": [
    "X_train, X_val, y_train, y_val = train_test_split(train_data[train_data.result.isin(good_results)].drop(['result', 'heaviness'], axis=1),\n",
    "                                                  train_data[train_data.result.isin(good_results)]['result'],\n",
    "                                                  stratify=train_data[train_data.result.isin(good_results)]['result'],\n",
    "                                                  test_size=0.15)"
   ]
  },
  {
   "cell_type": "code",
   "execution_count": 405,
   "metadata": {},
   "outputs": [
    {
     "name": "stdout",
     "output_type": "stream",
     "text": [
      "Learning rate set to 0.115573\n",
      "0:\tlearn: 1.9629577\ttest: 1.9635362\tbest: 1.9635362 (0)\ttotal: 300ms\tremaining: 4m 59s\n",
      "100:\tlearn: 0.5602790\ttest: 0.5741797\tbest: 0.5741797 (100)\ttotal: 1m 35s\tremaining: 14m 9s\n",
      "200:\tlearn: 0.5388497\ttest: 0.5718275\tbest: 0.5716454 (182)\ttotal: 3m 25s\tremaining: 13m 36s\n",
      "300:\tlearn: 0.5207200\ttest: 0.5720133\tbest: 0.5712617 (242)\ttotal: 5m 13s\tremaining: 12m 8s\n",
      "400:\tlearn: 0.5038742\ttest: 0.5731282\tbest: 0.5712617 (242)\ttotal: 6m 55s\tremaining: 10m 20s\n",
      "500:\tlearn: 0.4905263\ttest: 0.5744305\tbest: 0.5712617 (242)\ttotal: 8m 44s\tremaining: 8m 42s\n",
      "600:\tlearn: 0.4762553\ttest: 0.5756898\tbest: 0.5712617 (242)\ttotal: 10m 30s\tremaining: 6m 58s\n",
      "700:\tlearn: 0.4643986\ttest: 0.5766239\tbest: 0.5712617 (242)\ttotal: 12m 5s\tremaining: 5m 9s\n",
      "800:\tlearn: 0.4528435\ttest: 0.5782388\tbest: 0.5712617 (242)\ttotal: 13m 48s\tremaining: 3m 25s\n",
      "900:\tlearn: 0.4425088\ttest: 0.5802355\tbest: 0.5712617 (242)\ttotal: 15m 22s\tremaining: 1m 41s\n",
      "999:\tlearn: 0.4324830\ttest: 0.5816970\tbest: 0.5712617 (242)\ttotal: 17m\tremaining: 0us\n",
      "\n",
      "bestTest = 0.5712616644\n",
      "bestIteration = 242\n",
      "\n",
      "Shrink model to first 243 iterations.\n"
     ]
    },
    {
     "data": {
      "text/plain": [
       "<catboost.core.CatBoostClassifier at 0x1b80f4d30>"
      ]
     },
     "execution_count": 405,
     "metadata": {},
     "output_type": "execute_result"
    }
   ],
   "source": [
    "model = CatBoostClassifier(verbose=100, cat_features=cat_features)\n",
    "model.fit(X_train, y_train, eval_set=(X_val, y_val))"
   ]
  },
  {
   "cell_type": "code",
   "execution_count": 406,
   "metadata": {},
   "outputs": [
    {
     "name": "stdout",
     "output_type": "stream",
     "text": [
      "                                                         precision    recall  f1-score   support\n",
      "\n",
      "                             больной не найден на месте       0.00      0.00      0.00         2\n",
      "                                          вызов отменен       0.00      0.00      0.00         1\n",
      "                                   доставлен в больницу       1.00      0.03      0.06        31\n",
      "              оказана помощь, больной оставлен на месте       0.76      0.78      0.77      3010\n",
      "                                        отказ от помощи       0.00      0.00      0.00         4\n",
      "отказ от транспортировки для госпитализации в стационар       0.67      0.66      0.66      2114\n",
      "                                    передан бригаде СПЦ       0.00      0.00      0.00         1\n",
      "                       смерть в присутствии бригады СМП       0.00      0.00      0.00         2\n",
      "                          смерть до приезда бригады СМП       0.76      0.80      0.78       120\n",
      "\n",
      "                                               accuracy                           0.72      5285\n",
      "                                              macro avg       0.35      0.25      0.25      5285\n",
      "                                           weighted avg       0.72      0.72      0.72      5285\n",
      "\n"
     ]
    },
    {
     "name": "stderr",
     "output_type": "stream",
     "text": [
      "/Users/hare/opt/anaconda3/envs/champ/lib/python3.9/site-packages/sklearn/metrics/_classification.py:1248: UndefinedMetricWarning: Precision and F-score are ill-defined and being set to 0.0 in labels with no predicted samples. Use `zero_division` parameter to control this behavior.\n",
      "  _warn_prf(average, modifier, msg_start, len(result))\n",
      "/Users/hare/opt/anaconda3/envs/champ/lib/python3.9/site-packages/sklearn/metrics/_classification.py:1248: UndefinedMetricWarning: Precision and F-score are ill-defined and being set to 0.0 in labels with no predicted samples. Use `zero_division` parameter to control this behavior.\n",
      "  _warn_prf(average, modifier, msg_start, len(result))\n",
      "/Users/hare/opt/anaconda3/envs/champ/lib/python3.9/site-packages/sklearn/metrics/_classification.py:1248: UndefinedMetricWarning: Precision and F-score are ill-defined and being set to 0.0 in labels with no predicted samples. Use `zero_division` parameter to control this behavior.\n",
      "  _warn_prf(average, modifier, msg_start, len(result))\n"
     ]
    }
   ],
   "source": [
    "print(classification_report(y_val, model.predict(X_val)))"
   ]
  },
  {
   "cell_type": "code",
   "execution_count": 407,
   "metadata": {},
   "outputs": [],
   "source": [
    "model.save_model('models/result')"
   ]
  },
  {
   "cell_type": "code",
   "execution_count": null,
   "metadata": {},
   "outputs": [],
   "source": []
  },
  {
   "cell_type": "code",
   "execution_count": null,
   "metadata": {},
   "outputs": [],
   "source": []
  },
  {
   "cell_type": "code",
   "execution_count": null,
   "metadata": {},
   "outputs": [],
   "source": [
    "# внимание 56.294379, 44.052212\n",
    "# вызов 56.292367, 44.032201\n",
    "# первая 56.290812, 44.036148 - останется на более тяжелый случай\n",
    "# вторая 56.302092, 44.011915 - уедет на вызов"
   ]
  },
  {
   "cell_type": "code",
   "execution_count": 461,
   "metadata": {},
   "outputs": [],
   "source": [
    "data_for_demo = pd.merge(may_data, first_occasions, how='left', on='occasion')\n",
    "data_for_demo.loc[data_for_demo['type'] == 'неотложное состояние', 'heaviness'] = 1\n",
    "data_for_demo = data_for_demo[data_for_demo.heaviness.notnull()].reset_index(drop=True)"
   ]
  },
  {
   "cell_type": "code",
   "execution_count": 463,
   "metadata": {},
   "outputs": [
    {
     "data": {
      "text/plain": [
       "1.0    1265\n",
       "0.0      63\n",
       "Name: heaviness, dtype: int64"
      ]
     },
     "execution_count": 463,
     "metadata": {},
     "output_type": "execute_result"
    }
   ],
   "source": [
    "data_for_demo.heaviness.value_counts()"
   ]
  },
  {
   "cell_type": "code",
   "execution_count": 471,
   "metadata": {},
   "outputs": [
    {
     "data": {
      "text/html": [
       "<div>\n",
       "<style scoped>\n",
       "    .dataframe tbody tr th:only-of-type {\n",
       "        vertical-align: middle;\n",
       "    }\n",
       "\n",
       "    .dataframe tbody tr th {\n",
       "        vertical-align: top;\n",
       "    }\n",
       "\n",
       "    .dataframe thead th {\n",
       "        text-align: right;\n",
       "    }\n",
       "</style>\n",
       "<table border=\"1\" class=\"dataframe\">\n",
       "  <thead>\n",
       "    <tr style=\"text-align: right;\">\n",
       "      <th></th>\n",
       "      <th>adress</th>\n",
       "      <th>latitude_y</th>\n",
       "      <th>longitude_y</th>\n",
       "    </tr>\n",
       "  </thead>\n",
       "  <tbody>\n",
       "    <tr>\n",
       "      <th>0</th>\n",
       "      <td>г.Нижний Новгород, ул. Гордеевская, д.58, к***</td>\n",
       "      <td>56.331718</td>\n",
       "      <td>43.928174</td>\n",
       "    </tr>\n",
       "    <tr>\n",
       "      <th>1</th>\n",
       "      <td>г.Нижний Новгород, ул. Гордеевская, д.58, кв***</td>\n",
       "      <td>56.331718</td>\n",
       "      <td>43.928174</td>\n",
       "    </tr>\n",
       "    <tr>\n",
       "      <th>2</th>\n",
       "      <td>г.Нижний Новгород, ул. 40 лет Победы, д.7, кв***</td>\n",
       "      <td>56.225913</td>\n",
       "      <td>43.947479</td>\n",
       "    </tr>\n",
       "    <tr>\n",
       "      <th>3</th>\n",
       "      <td>г.Нижний Новгород, ул. Львовская, д.7, к***</td>\n",
       "      <td>56.266752</td>\n",
       "      <td>43.875147</td>\n",
       "    </tr>\n",
       "    <tr>\n",
       "      <th>4</th>\n",
       "      <td>г.Нижний Новгород, наб. им Федоровского, д.6, ...</td>\n",
       "      <td>56.326018</td>\n",
       "      <td>43.987697</td>\n",
       "    </tr>\n",
       "    <tr>\n",
       "      <th>...</th>\n",
       "      <td>...</td>\n",
       "      <td>...</td>\n",
       "      <td>...</td>\n",
       "    </tr>\n",
       "    <tr>\n",
       "      <th>1323</th>\n",
       "      <td>г.Нижний Новгород, ул. Чаадаева, д.14, кв***</td>\n",
       "      <td>56.329427</td>\n",
       "      <td>43.849105</td>\n",
       "    </tr>\n",
       "    <tr>\n",
       "      <th>1324</th>\n",
       "      <td>г.Нижний Новгород, ул. Циолковского, д.25а, кв***</td>\n",
       "      <td>56.340929</td>\n",
       "      <td>43.842870</td>\n",
       "    </tr>\n",
       "    <tr>\n",
       "      <th>1325</th>\n",
       "      <td>г.Нижний Новгород, ул. Металлистов, д.111</td>\n",
       "      <td>56.312050</td>\n",
       "      <td>43.853920</td>\n",
       "    </tr>\n",
       "    <tr>\n",
       "      <th>1326</th>\n",
       "      <td>г.Нижний Новгород, ул. Канашская, д.2А, к***</td>\n",
       "      <td>56.307142</td>\n",
       "      <td>44.039071</td>\n",
       "    </tr>\n",
       "    <tr>\n",
       "      <th>1327</th>\n",
       "      <td>г.Нижний Новгород, ул. Веденяпина, д.25, кв.***</td>\n",
       "      <td>56.229546</td>\n",
       "      <td>43.878848</td>\n",
       "    </tr>\n",
       "  </tbody>\n",
       "</table>\n",
       "<p>1328 rows × 3 columns</p>\n",
       "</div>"
      ],
      "text/plain": [
       "                                                 adress  latitude_y  \\\n",
       "0        г.Нижний Новгород, ул. Гордеевская, д.58, к***   56.331718   \n",
       "1       г.Нижний Новгород, ул. Гордеевская, д.58, кв***   56.331718   \n",
       "2      г.Нижний Новгород, ул. 40 лет Победы, д.7, кв***   56.225913   \n",
       "3           г.Нижний Новгород, ул. Львовская, д.7, к***   56.266752   \n",
       "4     г.Нижний Новгород, наб. им Федоровского, д.6, ...   56.326018   \n",
       "...                                                 ...         ...   \n",
       "1323       г.Нижний Новгород, ул. Чаадаева, д.14, кв***   56.329427   \n",
       "1324  г.Нижний Новгород, ул. Циолковского, д.25а, кв***   56.340929   \n",
       "1325          г.Нижний Новгород, ул. Металлистов, д.111   56.312050   \n",
       "1326       г.Нижний Новгород, ул. Канашская, д.2А, к***   56.307142   \n",
       "1327    г.Нижний Новгород, ул. Веденяпина, д.25, кв.***   56.229546   \n",
       "\n",
       "      longitude_y  \n",
       "0       43.928174  \n",
       "1       43.928174  \n",
       "2       43.947479  \n",
       "3       43.875147  \n",
       "4       43.987697  \n",
       "...           ...  \n",
       "1323    43.849105  \n",
       "1324    43.842870  \n",
       "1325    43.853920  \n",
       "1326    44.039071  \n",
       "1327    43.878848  \n",
       "\n",
       "[1328 rows x 3 columns]"
      ]
     },
     "execution_count": 471,
     "metadata": {},
     "output_type": "execute_result"
    }
   ],
   "source": [
    "data_for_demo[['adress', 'latitude_y', 'longitude_y']]"
   ]
  },
  {
   "cell_type": "code",
   "execution_count": 473,
   "metadata": {},
   "outputs": [],
   "source": [
    "cols = list(train_data.columns)\n",
    "cols.append('adress')\n",
    "cols.append('latitude_y')\n",
    "cols.append('longitude_y')\n",
    "data_for_demo[cols].to_csv('data_for_demo.csv', index=False)"
   ]
  },
  {
   "cell_type": "code",
   "execution_count": 426,
   "metadata": {},
   "outputs": [],
   "source": [
    "train_data.iloc[20211:20212].to_csv('demo_df.csv', index=False)"
   ]
  },
  {
   "cell_type": "code",
   "execution_count": 436,
   "metadata": {},
   "outputs": [],
   "source": [
    "train_data.iloc[6919:6920].to_csv('demo2_df.csv', index=False)"
   ]
  },
  {
   "cell_type": "code",
   "execution_count": 441,
   "metadata": {},
   "outputs": [
    {
     "data": {
      "text/plain": [
       "Timestamp('2022-04-30 06:58:41.372955')"
      ]
     },
     "execution_count": 441,
     "metadata": {},
     "output_type": "execute_result"
    }
   ],
   "source": [
    "pd.to_datetime('2022-04-30'+' '+str(dt.datetime.now().time()))"
   ]
  },
  {
   "cell_type": "code",
   "execution_count": 431,
   "metadata": {},
   "outputs": [
    {
     "data": {
      "text/plain": [
       "'отказ от транспортировки для госпитализации в стационар'"
      ]
     },
     "execution_count": 431,
     "metadata": {},
     "output_type": "execute_result"
    }
   ],
   "source": [
    "model.predict(train_data[model.feature_names_].iloc[20211:20212])[0][0]"
   ]
  },
  {
   "cell_type": "code",
   "execution_count": 432,
   "metadata": {},
   "outputs": [],
   "source": [
    "hmodel = CatBoostClassifier().load_model('models/heaviness')"
   ]
  },
  {
   "cell_type": "code",
   "execution_count": 434,
   "metadata": {},
   "outputs": [
    {
     "data": {
      "text/plain": [
       "0.00026170060242840866"
      ]
     },
     "execution_count": 434,
     "metadata": {},
     "output_type": "execute_result"
    }
   ],
   "source": [
    "hmodel.predict_proba(train_data[hmodel.feature_names_].iloc[20211:20212])[0, -1]"
   ]
  },
  {
   "cell_type": "code",
   "execution_count": 435,
   "metadata": {},
   "outputs": [
    {
     "data": {
      "text/html": [
       "<div>\n",
       "<style scoped>\n",
       "    .dataframe tbody tr th:only-of-type {\n",
       "        vertical-align: middle;\n",
       "    }\n",
       "\n",
       "    .dataframe tbody tr th {\n",
       "        vertical-align: top;\n",
       "    }\n",
       "\n",
       "    .dataframe thead th {\n",
       "        text-align: right;\n",
       "    }\n",
       "</style>\n",
       "<table border=\"1\" class=\"dataframe\">\n",
       "  <thead>\n",
       "    <tr style=\"text-align: right;\">\n",
       "      <th></th>\n",
       "      <th>hour</th>\n",
       "      <th>weekday</th>\n",
       "      <th>day</th>\n",
       "      <th>week</th>\n",
       "      <th>month</th>\n",
       "      <th>holiday</th>\n",
       "      <th>T</th>\n",
       "      <th>Tg</th>\n",
       "      <th>Po</th>\n",
       "      <th>Pa</th>\n",
       "      <th>U</th>\n",
       "      <th>ff3</th>\n",
       "      <th>substation</th>\n",
       "      <th>who</th>\n",
       "      <th>calling</th>\n",
       "      <th>type</th>\n",
       "      <th>occasion</th>\n",
       "      <th>result</th>\n",
       "      <th>heaviness</th>\n",
       "    </tr>\n",
       "  </thead>\n",
       "  <tbody>\n",
       "    <tr>\n",
       "      <th>0</th>\n",
       "      <td>5</td>\n",
       "      <td>4</td>\n",
       "      <td>11</td>\n",
       "      <td>10</td>\n",
       "      <td>3</td>\n",
       "      <td>NaN</td>\n",
       "      <td>12.1</td>\n",
       "      <td>NaN</td>\n",
       "      <td>738.7</td>\n",
       "      <td>-1.1</td>\n",
       "      <td>61</td>\n",
       "      <td>10.0</td>\n",
       "      <td>ПСМП №7</td>\n",
       "      <td>NaN</td>\n",
       "      <td>Первичный</td>\n",
       "      <td>внезапное заболевание</td>\n",
       "      <td>Плохо ребенку (причина неизвестна)</td>\n",
       "      <td>оказана помощь, больной оставлен на месте</td>\n",
       "      <td>0.0</td>\n",
       "    </tr>\n",
       "  </tbody>\n",
       "</table>\n",
       "</div>"
      ],
      "text/plain": [
       "   hour  weekday  day  week  month  holiday     T  Tg     Po   Pa   U   ff3  \\\n",
       "0     5        4   11    10      3      NaN  12.1 NaN  738.7 -1.1  61  10.0   \n",
       "\n",
       "  substation  who    calling                   type  \\\n",
       "0    ПСМП №7  NaN  Первичный  внезапное заболевание   \n",
       "\n",
       "                             occasion  \\\n",
       "0  Плохо ребенку (причина неизвестна)   \n",
       "\n",
       "                                      result  heaviness  \n",
       "0  оказана помощь, больной оставлен на месте        0.0  "
      ]
     },
     "execution_count": 435,
     "metadata": {},
     "output_type": "execute_result"
    }
   ],
   "source": [
    "pd.read_csv('demo_df.csv')"
   ]
  },
  {
   "cell_type": "code",
   "execution_count": null,
   "metadata": {},
   "outputs": [],
   "source": []
  },
  {
   "cell_type": "code",
   "execution_count": 479,
   "metadata": {},
   "outputs": [],
   "source": [
    "temp = pd.read_csv('data_for_demo.csv')\n",
    "cat_features = ['substation', 'holiday', 'who', 'calling', 'type', 'occasion']\n",
    "temp[cat_features] = temp[cat_features].fillna('')\n",
    "# temp['Прогнозируемый Результат'] = result_model.predict(temp[result_model.feature_names_])[0][0]\n",
    "# temp['Прогнозируемая Тяжесть'] = round(heavy_model.predict_proba(temp[heavy_model.feature_names_])[0, -1], 2)\n",
    "temp = temp.rename(columns={'occasion': 'Повод', 'calling': 'Вызов', 'type': 'Вид', 'substation': 'Подстанция',\n",
    "                           'adress':'Адрес'})"
   ]
  },
  {
   "cell_type": "code",
   "execution_count": 489,
   "metadata": {},
   "outputs": [
    {
     "data": {
      "text/plain": [
       "array([ 183,   73,  220, 1320])"
      ]
     },
     "execution_count": 489,
     "metadata": {},
     "output_type": "execute_result"
    }
   ],
   "source": []
  },
  {
   "cell_type": "code",
   "execution_count": null,
   "metadata": {},
   "outputs": [],
   "source": []
  }
 ],
 "metadata": {
  "kernelspec": {
   "display_name": "Python 3 (ipykernel)",
   "language": "python",
   "name": "python3"
  },
  "language_info": {
   "codemirror_mode": {
    "name": "ipython",
    "version": 3
   },
   "file_extension": ".py",
   "mimetype": "text/x-python",
   "name": "python",
   "nbconvert_exporter": "python",
   "pygments_lexer": "ipython3",
   "version": "3.9.5"
  }
 },
 "nbformat": 4,
 "nbformat_minor": 4
}
