{
 "cells": [
  {
   "cell_type": "code",
   "execution_count": 4,
   "metadata": {},
   "outputs": [
    {
     "name": "stdout",
     "output_type": "stream",
     "text": [
      "Collecting xlrd\n",
      "  Using cached xlrd-2.0.1-py2.py3-none-any.whl (96 kB)\n",
      "Installing collected packages: xlrd\n",
      "Successfully installed xlrd-2.0.1\n"
     ]
    }
   ],
   "source": [
    "!pip install xlrd"
   ]
  },
  {
   "cell_type": "code",
   "execution_count": 294,
   "metadata": {},
   "outputs": [
    {
     "name": "stdout",
     "output_type": "stream",
     "text": [
      "Collecting geopy\n",
      "  Downloading geopy-2.2.0-py3-none-any.whl (118 kB)\n",
      "\u001b[K     |████████████████████████████████| 118 kB 179 kB/s eta 0:00:01\n",
      "\u001b[?25hCollecting geographiclib<2,>=1.49\n",
      "  Downloading geographiclib-1.52-py3-none-any.whl (38 kB)\n",
      "Installing collected packages: geographiclib, geopy\n",
      "Successfully installed geographiclib-1.52 geopy-2.2.0\n"
     ]
    }
   ],
   "source": [
    "!pip install geopy"
   ]
  },
  {
   "cell_type": "code",
   "execution_count": 162,
   "metadata": {},
   "outputs": [],
   "source": [
    "import pandas as pd\n",
    "from glob import glob\n",
    "from tqdm import tqdm\n",
    "import numpy as np\n",
    "from datetime import timedelta\n",
    "from haversine import haversine\n",
    "from random import randrange\n",
    "from datetime import timedelta\n",
    "from datetime import datetime\n",
    "\n",
    "from catboost import CatBoostClassifier, CatBoostRegressor\n",
    "from sklearn.model_selection import train_test_split\n",
    "from sklearn.metrics import *\n",
    "\n",
    "import datetime as dt\n",
    "\n",
    "from datetime import date\n",
    "import holidays"
   ]
  },
  {
   "cell_type": "markdown",
   "metadata": {},
   "source": [
    "# Загрузка данных"
   ]
  },
  {
   "cell_type": "code",
   "execution_count": 2,
   "metadata": {},
   "outputs": [],
   "source": [
    "def parse_data(temp):\n",
    "\n",
    "    res = pd.DataFrame()\n",
    "    \n",
    "    res['date'] = [temp.iloc[0][0]]\n",
    "    res['number'] = temp.iloc[0][3]\n",
    "    res['age'] = temp.iloc[0][16]\n",
    "    res['who'] = temp.iloc[0][19]\n",
    "    \n",
    "    if temp.shape[0] == 4:\n",
    "\n",
    "        res['occasion'] = temp.iloc[1][1]\n",
    "        res['calling'] = temp.iloc[1][11]\n",
    "        res['type'] = temp.iloc[1][18]\n",
    "        \n",
    "        res['delivered'] = temp.iloc[2][1]\n",
    "        res['substation'] = temp.iloc[2][17]\n",
    "        \n",
    "        res['accept_time'] = temp.iloc[3][8]\n",
    "        res['arrival_time'] = temp.iloc[3][11]\n",
    "        res['hospitalized'] = temp.iloc[3][14]\n",
    "    \n",
    "    elif temp.shape[0] == 5:\n",
    "\n",
    "        res['occasion'] = temp.iloc[1][1]\n",
    "        res['calling'] = temp.iloc[1][11]\n",
    "        res['type'] = temp.iloc[1][18]\n",
    "        \n",
    "        res['diagnosis'] = temp.iloc[2][1]\n",
    "        res['result'] = temp.iloc[2][11]\n",
    "        \n",
    "        res['delivered'] = temp.iloc[3][1]\n",
    "        res['substation'] = temp.iloc[3][17]\n",
    "        \n",
    "        res['accept_time'] = temp.iloc[4][8]\n",
    "        res['arrival_time'] = temp.iloc[4][11]\n",
    "        res['hospitalized'] = temp.iloc[4][14]\n",
    "    \n",
    "    else:\n",
    "    \n",
    "        res['adress'] = temp.iloc[1][1]\n",
    "        \n",
    "        res['occasion'] = temp.iloc[2][1]\n",
    "        res['calling'] = temp.iloc[2][11]\n",
    "        res['type'] = temp.iloc[2][18]\n",
    "        \n",
    "        res['diagnosis'] = temp.iloc[3][1]\n",
    "        res['result'] = temp.iloc[3][11]\n",
    "        \n",
    "        res['delivered'] = temp.iloc[4][1]\n",
    "        res['substation'] = temp.iloc[4][17]\n",
    "        \n",
    "        res['accept_time'] = temp.iloc[5][8]\n",
    "        res['arrival_time'] = temp.iloc[5][11]\n",
    "        res['hospitalized'] = temp.iloc[5][14]\n",
    "    \n",
    "    return res"
   ]
  },
  {
   "cell_type": "code",
   "execution_count": 3,
   "metadata": {},
   "outputs": [],
   "source": [
    "def process_data(files):\n",
    "    \n",
    "    data_all = pd.DataFrame()\n",
    "    \n",
    "    for file in files:\n",
    "        \n",
    "        data_raw = pd.read_excel(file, header=None)\n",
    "    \n",
    "        i_start = []\n",
    "        \n",
    "        for i, val in enumerate(data_raw[0]):\n",
    "            if type(data_raw[0][i]) == type(data_raw[0][0]) and type(data_raw[3][i]) == str and i > 0:\n",
    "                i_start.append(i)\n",
    "                \n",
    "        data = pd.DataFrame()\n",
    "        for j in tqdm(range(len(i_start)-1)):\n",
    "            temp = parse_data(data_raw.iloc[i_start[j]:i_start[j+1]])\n",
    "            data = pd.concat([data, temp], ignore_index=True)\n",
    "            \n",
    "        data_all = pd.concat([data_all, data], ignore_index=True)\n",
    "        \n",
    "    return data_all"
   ]
  },
  {
   "cell_type": "code",
   "execution_count": 361,
   "metadata": {},
   "outputs": [
    {
     "name": "stderr",
     "output_type": "stream",
     "text": [
      "100%|██████████████████████████████████████| 5348/5348 [00:43<00:00, 122.73it/s]\n",
      "100%|██████████████████████████████████████| 6980/6980 [00:57<00:00, 122.14it/s]\n",
      "100%|██████████████████████████████████████| 9733/9733 [01:18<00:00, 124.29it/s]\n",
      "100%|██████████████████████████████████████| 7427/7427 [01:01<00:00, 121.29it/s]\n",
      "100%|████████████████████████████████████| 10887/10887 [01:28<00:00, 122.49it/s]\n"
     ]
    }
   ],
   "source": [
    "data = process_data(glob('data/Журнал активных вызовов 2022/*'))"
   ]
  },
  {
   "cell_type": "code",
   "execution_count": 1098,
   "metadata": {},
   "outputs": [],
   "source": [
    "# data.to_csv('data_2022.csv', index=False)\n",
    "\n",
    "data = pd.read_csv('data_2022.csv')"
   ]
  },
  {
   "cell_type": "code",
   "execution_count": 1101,
   "metadata": {},
   "outputs": [],
   "source": [
    "data = data[(data.accept_time.notnull())&(data.arrival_time.notnull())&(data.substation.notnull())]"
   ]
  },
  {
   "cell_type": "code",
   "execution_count": 1102,
   "metadata": {},
   "outputs": [],
   "source": [
    "data = data.drop(['hospitalized'], axis=1)"
   ]
  },
  {
   "cell_type": "code",
   "execution_count": 1103,
   "metadata": {},
   "outputs": [],
   "source": [
    "data.date = pd.to_datetime(data.date)"
   ]
  },
  {
   "cell_type": "code",
   "execution_count": 1104,
   "metadata": {},
   "outputs": [],
   "source": [
    "data['accept_datetime'] = data[['date', 'accept_time']].apply(lambda x: pd.to_datetime(str(x[0].date()) + ' ' + str(x[1])), axis=1)"
   ]
  },
  {
   "cell_type": "markdown",
   "metadata": {},
   "source": [
    "# Добавление нулевых вызовов"
   ]
  },
  {
   "cell_type": "code",
   "execution_count": 1106,
   "metadata": {},
   "outputs": [],
   "source": [
    "def random_date(start, end):\n",
    "    \"\"\"\n",
    "    This function will return a random datetime between two datetime \n",
    "    objects.\n",
    "    \"\"\"\n",
    "    delta = end - start\n",
    "    int_delta = (delta.days * 24 * 60 * 60) + delta.seconds\n",
    "    random_second = randrange(int_delta)\n",
    "    return start + timedelta(seconds=random_second)\n",
    "\n",
    "d1 = datetime.strptime('1/1/2022 1:00 AM', '%m/%d/%Y %I:%M %p')\n",
    "d2 = datetime.strptime('5/24/2022 11:50 PM', '%m/%d/%Y %I:%M %p')\n",
    "\n",
    "random_datetimes = []\n",
    "\n",
    "for i in range(data.shape[0]):\n",
    "    random_datetimes.append(random_date(d1, d2))"
   ]
  },
  {
   "cell_type": "code",
   "execution_count": 1107,
   "metadata": {},
   "outputs": [],
   "source": [
    "random_data = pd.DataFrame()\n",
    "random_data['accept_datetime'] = random_datetimes\n",
    "random_data['substation'] = data.substation.values\n",
    "random_data['who'] = ''\n",
    "random_data['adress'] = ''\n",
    "random_data['occasion'] = ''\n",
    "random_data['calling'] = ''\n",
    "random_data['type'] = ''\n",
    "random_data['diagnosis'] = ''\n",
    "random_data['result'] = ''"
   ]
  },
  {
   "cell_type": "code",
   "execution_count": 1108,
   "metadata": {},
   "outputs": [],
   "source": [
    "data = data.sort_values('accept_datetime').reset_index(drop=True)\n",
    "random_data = random_data.sort_values('accept_datetime').reset_index(drop=True)"
   ]
  },
  {
   "cell_type": "markdown",
   "metadata": {
    "tags": []
   },
   "source": [
    "## Подстанции"
   ]
  },
  {
   "cell_type": "code",
   "execution_count": 37,
   "metadata": {},
   "outputs": [],
   "source": [
    "substations = pd.read_excel('substations.xlsx')\n",
    "# pd.DataFrame(data.substation.unique()).to_excel('substations.xlsx', index=False)\n",
    "substations['latitude'] = substations.coords.apply(lambda x: float(x.split(',')[0]))\n",
    "substations['longitude'] = substations.coords.apply(lambda x: float(x.split(',')[1]))"
   ]
  },
  {
   "cell_type": "code",
   "execution_count": 1110,
   "metadata": {},
   "outputs": [],
   "source": [
    "data = pd.merge(data, substations, how='left',\n",
    "                left_on='substation', right_on='name')\n",
    "\n",
    "random_data = pd.merge(random_data, substations, how='left',\n",
    "                       left_on='substation', right_on='name')"
   ]
  },
  {
   "cell_type": "markdown",
   "metadata": {
    "tags": []
   },
   "source": [
    "## Возраст и время"
   ]
  },
  {
   "cell_type": "code",
   "execution_count": 1111,
   "metadata": {},
   "outputs": [],
   "source": [
    "def process_age(x):\n",
    "    if 'лет' in x:\n",
    "        return float(x.split(' ')[0])\n",
    "    elif 'месяцев' in x:\n",
    "        return float(x.split(' ')[0]) / 12\n",
    "    elif 'недель' in x:\n",
    "        return float(x.split(' ')[0]) / 12 / 4\n",
    "    \n",
    "data['age'] = data.age.apply(lambda x: process_age(x))"
   ]
  },
  {
   "cell_type": "code",
   "execution_count": 1112,
   "metadata": {},
   "outputs": [],
   "source": [
    "data = data.drop_duplicates('number').reset_index(drop=True)"
   ]
  },
  {
   "cell_type": "code",
   "execution_count": 1113,
   "metadata": {},
   "outputs": [],
   "source": [
    "data.coords = data.coords.apply(lambda x: [float(x.split(', ')[0]), float(x.split(', ')[1])])"
   ]
  },
  {
   "cell_type": "code",
   "execution_count": 1114,
   "metadata": {},
   "outputs": [],
   "source": [
    "data['road_time'] = data[['arrival_time', 'accept_time']].apply(lambda x: (pd.to_datetime(x[0]) - pd.to_datetime(x[1])).seconds / 60, axis=1)"
   ]
  },
  {
   "cell_type": "code",
   "execution_count": 1115,
   "metadata": {},
   "outputs": [],
   "source": [
    "data.accept_time = data.accept_time.apply(lambda x: pd.to_datetime(x).time())\n",
    "data.arrival_time = data.arrival_time.apply(lambda x: pd.to_datetime(x).time())"
   ]
  },
  {
   "cell_type": "code",
   "execution_count": 1116,
   "metadata": {},
   "outputs": [],
   "source": [
    "data.date = pd.to_datetime(data.date)"
   ]
  },
  {
   "cell_type": "code",
   "execution_count": 1117,
   "metadata": {},
   "outputs": [],
   "source": [
    "data['weekday'] = data.date.apply(lambda x: x.weekday())\n",
    "data['day'] = data.date.apply(lambda x: x.day)\n",
    "data['week'] = data.date.apply(lambda x: x.week)\n",
    "data['month'] = data.date.apply(lambda x: x.month)"
   ]
  },
  {
   "cell_type": "code",
   "execution_count": 1118,
   "metadata": {},
   "outputs": [],
   "source": [
    "random_data['weekday'] = random_data.accept_datetime.apply(lambda x: x.weekday())\n",
    "random_data['day'] = random_data.accept_datetime.apply(lambda x: x.day)\n",
    "random_data['week'] = random_data.accept_datetime.apply(lambda x: x.week)\n",
    "random_data['month'] = random_data.accept_datetime.apply(lambda x: x.month)"
   ]
  },
  {
   "cell_type": "code",
   "execution_count": null,
   "metadata": {},
   "outputs": [],
   "source": [
    "data['hour'] = data.accept_datetime.apply(lambda x: x.hour)\n",
    "random_data['hour'] = random_data.accept_datetime.apply(lambda x: x.hour)"
   ]
  },
  {
   "cell_type": "code",
   "execution_count": 1120,
   "metadata": {},
   "outputs": [],
   "source": [
    "data['holiday'] = data.date.apply(lambda x: holidays.RUS().get(x))\n",
    "random_data['holiday'] = random_data.accept_datetime.apply(lambda x: holidays.RUS().get(x))"
   ]
  },
  {
   "cell_type": "code",
   "execution_count": 1121,
   "metadata": {},
   "outputs": [
    {
     "data": {
      "text/plain": [
       "Новый год                   2366\n",
       "Православное Рождество       340\n",
       "День защитника отечества     270\n",
       "Праздник Весны и Труда       236\n",
       "День женщин                  229\n",
       "День Победы                  204\n",
       "Name: holiday, dtype: int64"
      ]
     },
     "execution_count": 1121,
     "metadata": {},
     "output_type": "execute_result"
    }
   ],
   "source": [
    "data.holiday.value_counts()"
   ]
  },
  {
   "cell_type": "code",
   "execution_count": 1122,
   "metadata": {},
   "outputs": [
    {
     "data": {
      "text/plain": [
       "Новый год                   1937\n",
       "Православное Рождество       301\n",
       "День защитника отечества     285\n",
       "Праздник Весны и Труда       278\n",
       "День Победы                  270\n",
       "День женщин                  268\n",
       "Name: holiday, dtype: int64"
      ]
     },
     "execution_count": 1122,
     "metadata": {},
     "output_type": "execute_result"
    }
   ],
   "source": [
    "random_data.holiday.value_counts()"
   ]
  },
  {
   "cell_type": "code",
   "execution_count": 1123,
   "metadata": {},
   "outputs": [],
   "source": [
    "data.to_csv('data_2022_processed.csv', index=False)\n",
    "random_data.to_csv('random_data_2022_processed.csv', index=False)"
   ]
  },
  {
   "cell_type": "code",
   "execution_count": 4,
   "metadata": {},
   "outputs": [],
   "source": [
    "data = pd.read_csv('data_2022_processed.csv')\n",
    "random_data = pd.read_csv('random_data_2022_processed.csv')"
   ]
  },
  {
   "cell_type": "markdown",
   "metadata": {
    "tags": []
   },
   "source": [
    "# Исследование заболеваний"
   ]
  },
  {
   "cell_type": "code",
   "execution_count": 626,
   "metadata": {},
   "outputs": [
    {
     "data": {
      "text/plain": [
       "0                                                      NaN\n",
       "1                         Повышение ад без признаков криза\n",
       "2        Температура 38-39, ребёнок >1 года, других жал...\n",
       "3                      Плохо (после употребления алкоголя)\n",
       "4                                 Рвота, понос у взрослого\n",
       "                               ...                        \n",
       "37253                                Температура, взрослый\n",
       "37254              Задыхается (нарушение сердечного ритма)\n",
       "37255                     Повышение ад без признаков криза\n",
       "37256                         Задыхается, кашель (ребенок)\n",
       "37257                                    Констатация, умер\n",
       "Name: occasion, Length: 37258, dtype: object"
      ]
     },
     "execution_count": 626,
     "metadata": {},
     "output_type": "execute_result"
    }
   ],
   "source": [
    "data.occasion"
   ]
  },
  {
   "cell_type": "code",
   "execution_count": 456,
   "metadata": {},
   "outputs": [
    {
     "data": {
      "text/plain": [
       "array(['оказана помощь, больной оставлен на месте',\n",
       "       'отказ от транспортировки для госпитализации в стационар',\n",
       "       'смерть до приезда бригады СМП', 'доставлен в больницу',\n",
       "       'передан бригаде СПЦ', nan, 'смерть в присутствии бригады СМП',\n",
       "       'отказ от помощи', 'больной не найден на месте',\n",
       "       'немедицинская перевозка', 'доставлен в дом ночного прибывания',\n",
       "       'обслужен врачом до прибытия СМП', 'пациент практически здоров',\n",
       "       'больной увезен до прибытия СМП', 'вызов отменен',\n",
       "       'доставлен в травмпункт', 'передан другой бригаде',\n",
       "       'отказ от осмотра', 'скорую не вызывали'], dtype=object)"
      ]
     },
     "execution_count": 456,
     "metadata": {},
     "output_type": "execute_result"
    }
   ],
   "source": [
    "data.result.unique()"
   ]
  },
  {
   "cell_type": "code",
   "execution_count": 460,
   "metadata": {},
   "outputs": [
    {
     "data": {
      "text/plain": [
       "710"
      ]
     },
     "execution_count": 460,
     "metadata": {},
     "output_type": "execute_result"
    }
   ],
   "source": [
    "data.diagnosis.nunique()"
   ]
  },
  {
   "cell_type": "code",
   "execution_count": 464,
   "metadata": {},
   "outputs": [
    {
     "name": "stdout",
     "output_type": "stream",
     "text": [
      "6\n",
      "['Первичный' 'Повторный' 'Попутный' nan 'Неотложка' 'Амбулаторный'\n",
      " 'Активный']\n"
     ]
    }
   ],
   "source": [
    "print(data.calling.nunique())\n",
    "print(data.calling.unique())"
   ]
  },
  {
   "cell_type": "code",
   "execution_count": 465,
   "metadata": {},
   "outputs": [
    {
     "name": "stdout",
     "output_type": "stream",
     "text": [
      "6\n",
      "['неотложное состояние' 'внезапное заболевание' 'несчастный случай' nan\n",
      " 'хроническое заболевание' 'патология беременности' 'роды']\n"
     ]
    }
   ],
   "source": [
    "print(data.type.nunique())\n",
    "print(data.type.unique())"
   ]
  },
  {
   "cell_type": "code",
   "execution_count": 473,
   "metadata": {},
   "outputs": [],
   "source": [
    "pd.DataFrame(data[data.occasion.notnull()].occasion.value_counts()).to_excel('occasions.xlsx')"
   ]
  },
  {
   "cell_type": "code",
   "execution_count": 474,
   "metadata": {},
   "outputs": [],
   "source": [
    "pd.DataFrame(data[data.result.notnull()].result.value_counts()).to_excel('call_result.xlsx')"
   ]
  },
  {
   "cell_type": "markdown",
   "metadata": {},
   "source": [
    "# Погода"
   ]
  },
  {
   "cell_type": "code",
   "execution_count": 5,
   "metadata": {
    "tags": []
   },
   "outputs": [],
   "source": [
    "weather = pd.read_csv('weather_2022.csv', encoding='utf-8', skiprows=6, sep=';', index_col=0)\n",
    "\n",
    "weather_columns = weather.columns[1:]\n",
    "weather = weather.drop(weather.columns[-1], axis=1)\n",
    "weather.columns = weather_columns\n",
    "\n",
    "weather = weather.reset_index().rename(columns={'index':'datetime'}).sort_values('datetime').reset_index(drop=True)\n",
    "\n",
    "weather = weather[['datetime', 'T', 'Tg', 'Po', 'Pa', 'U', 'ff3']]\n",
    "\n",
    "weather.datetime = pd.to_datetime(weather.datetime)"
   ]
  },
  {
   "cell_type": "code",
   "execution_count": 8,
   "metadata": {},
   "outputs": [],
   "source": [
    "data.date = pd.to_datetime(data.date)"
   ]
  },
  {
   "cell_type": "code",
   "execution_count": 9,
   "metadata": {},
   "outputs": [],
   "source": [
    "data['accept_datetime'] = data[['date', 'accept_time']].apply(lambda x: pd.to_datetime(str(x[0].date()) + ' ' + str(x[1])), axis=1)"
   ]
  },
  {
   "cell_type": "code",
   "execution_count": 10,
   "metadata": {},
   "outputs": [
    {
     "name": "stderr",
     "output_type": "stream",
     "text": [
      "100%|████████████████████████████████████| 37258/37258 [00:38<00:00, 971.57it/s]\n"
     ]
    }
   ],
   "source": [
    "weather_for_data = pd.DataFrame()\n",
    "\n",
    "for adt in tqdm(data['accept_datetime']):\n",
    "    weather_for_data = pd.concat([weather_for_data, weather[weather.datetime <= adt].iloc[-1:]],\n",
    "                                 ignore_index=True)\n",
    "    \n",
    "data[weather_for_data.columns[1:]] = weather_for_data[weather_for_data.columns[1:]]"
   ]
  },
  {
   "cell_type": "code",
   "execution_count": 11,
   "metadata": {},
   "outputs": [
    {
     "name": "stderr",
     "output_type": "stream",
     "text": [
      "100%|████████████████████████████████████| 40221/40221 [00:41<00:00, 961.30it/s]\n"
     ]
    }
   ],
   "source": [
    "weather_for_data = pd.DataFrame()\n",
    "\n",
    "for adt in tqdm(random_data['accept_datetime']):\n",
    "    weather_for_data = pd.concat([weather_for_data, weather[weather.datetime <= adt].iloc[-1:]],\n",
    "                                 ignore_index=True)\n",
    "    \n",
    "random_data[weather_for_data.columns[1:]] = weather_for_data[weather_for_data.columns[1:]]"
   ]
  },
  {
   "cell_type": "markdown",
   "metadata": {
    "tags": []
   },
   "source": [
    "# ДТП (проработали, но не использовали)"
   ]
  },
  {
   "cell_type": "code",
   "execution_count": 713,
   "metadata": {
    "tags": []
   },
   "outputs": [],
   "source": [
    "# dtp = pd.read_csv('dtp201804-1.csv', encoding='cp1251', sep=';')\n",
    "# dtp = dtp[dtp.reg_name == 'Нижегородская область'].reset_index(drop=True)\n",
    "# for i in range(len(substations)):\n",
    "#     latlon = tuple(substations[['latitude', 'longitude']].iloc[i])\n",
    "#     dtp[substations.name.iloc[i]] = dtp[['latitude', 'longitude']].apply(lambda x: haversine((x[0], x[1]), latlon), axis=1)"
   ]
  },
  {
   "cell_type": "code",
   "execution_count": 886,
   "metadata": {
    "tags": []
   },
   "outputs": [],
   "source": [
    "# dtp = pd.concat([pd.read_excel(file) for file in glob('дтп/*')])\n",
    "# dtp['Место ДТП'] = dtp['Место ДТП'].apply(lambda x: ''.join(x.split(', ')[2:3]))\n",
    "# dtp['datetime'] = pd.to_datetime(dtp['Дата-время ДТП'])\n",
    "# dtp['victims'] = dtp['Погибло'] + dtp['Ранено']\n",
    "# dtp.drop_duplicates('Номер ДТП').reset_index(drop=True)\n",
    "# dtp.datetime = pd.to_datetime(dtp.datetime.apply(lambda x: str(x).replace('2021', '2022')))\n",
    "# # pd.DataFrame(dtp['Место ДТП'].value_counts()).to_excel('dtp_regions.xlsx')\n",
    "\n",
    "# dtp_regions = pd.read_excel('dtp_regions.xlsx')\n",
    "# dtp_regions.coords = dtp_regions.coords.apply(lambda x: tuple([float(x.split(', ')[0]), float(x.split(', ')[1])]) )"
   ]
  },
  {
   "cell_type": "code",
   "execution_count": 734,
   "metadata": {},
   "outputs": [],
   "source": [
    "# data.coords = data.coords.apply(lambda x: tuple(x))"
   ]
  },
  {
   "cell_type": "code",
   "execution_count": 776,
   "metadata": {},
   "outputs": [],
   "source": [
    "# substations.coords = substations.coords.apply(lambda x: tuple([float(x.split(', ')[0]), float(x.split(', ')[1])]))"
   ]
  },
  {
   "cell_type": "code",
   "execution_count": 777,
   "metadata": {},
   "outputs": [],
   "source": [
    "# substations = substations[substations.columns[:4]]"
   ]
  },
  {
   "cell_type": "code",
   "execution_count": 778,
   "metadata": {},
   "outputs": [],
   "source": [
    "# dtp_subs = pd.DataFrame()\n",
    "\n",
    "# for j in range(len(dtp_regions)):\n",
    "    \n",
    "#     dtp_reg = dtp_regions.region.iloc[j]\n",
    "#     dtp_coords = dtp_regions.coords.iloc[j]\n",
    "    \n",
    "#     temp_hav = []\n",
    "\n",
    "#     for i in range(len(substations)):\n",
    "    \n",
    "#         name = substations.name.iloc[i]\n",
    "#         coords = substations.coords.iloc[i]\n",
    "    \n",
    "#         temp_hav.append(haversine(dtp_coords, coords))\n",
    "        \n",
    "#     dtp_subs[dtp_reg] = temp_hav"
   ]
  },
  {
   "cell_type": "code",
   "execution_count": 780,
   "metadata": {},
   "outputs": [],
   "source": [
    "# dtp_subs = dtp_subs.T\n",
    "# dtp_subs.columns = list(substations.name)"
   ]
  },
  {
   "cell_type": "code",
   "execution_count": 791,
   "metadata": {
    "tags": []
   },
   "outputs": [
    {
     "data": {
      "text/plain": [
       "['Нижний Новгород', 'Городской округ г. Бор']"
      ]
     },
     "execution_count": 791,
     "metadata": {},
     "output_type": "execute_result"
    }
   ],
   "source": [
    "# # до 20 км\n",
    "# list(dtp_subs[dtp_subs[dtp_subs.columns[5]] < 20].index)"
   ]
  },
  {
   "cell_type": "code",
   "execution_count": 792,
   "metadata": {},
   "outputs": [],
   "source": [
    "# dtp_subs_dict = {}\n",
    "# for col in dtp_subs.columns:\n",
    "#     dtp_subs_dict[col] = list(dtp_subs[dtp_subs[col] < 20].index)"
   ]
  },
  {
   "cell_type": "code",
   "execution_count": 887,
   "metadata": {},
   "outputs": [],
   "source": [
    "# data['dtp_datetime'] = data.accept_datetime - timedelta(hours=2)"
   ]
  },
  {
   "cell_type": "code",
   "execution_count": 893,
   "metadata": {
    "tags": []
   },
   "outputs": [
    {
     "name": "stderr",
     "output_type": "stream",
     "text": [
      "100%|████████████████████████████████████| 37258/37258 [04:21<00:00, 142.36it/s]\n"
     ]
    }
   ],
   "source": [
    "# dtp_data = pd.DataFrame()\n",
    "\n",
    "# for i in tqdm(range(data.shape[0])):\n",
    "\n",
    "#     dttm = data.accept_datetime.iloc[i]\n",
    "#     dttm_dtp = data.dtp_datetime.iloc[i]\n",
    "#     dtp_reg = data.substation.iloc[i]\n",
    "    \n",
    "#     temp_dtp = dtp[(dtp['Место ДТП'].isin(dtp_subs_dict[dtp_reg]))\n",
    "#                    &(pd.to_datetime(dtp.datetime) > dttm_dtp)&(pd.to_datetime(dtp.datetime) < dttm)].copy()\n",
    "#     if temp_dtp.shape[0] > 0:\n",
    "#         temp_dtp.loc[:, 'accept_datetime'] = dttm\n",
    "#         temp_dtp.loc[:, 'substation'] = dtp_reg\n",
    "#         dtp_data = pd.concat([dtp_data, temp_dtp.drop_duplicates('Номер ДТП')], axis=0)"
   ]
  },
  {
   "cell_type": "markdown",
   "metadata": {
    "tags": []
   },
   "source": [
    "# Dummy"
   ]
  },
  {
   "cell_type": "code",
   "execution_count": 895,
   "metadata": {},
   "outputs": [
    {
     "data": {
      "text/plain": [
       "Index(['date', 'number', 'age', 'who', 'adress', 'occasion', 'calling', 'type',\n",
       "       'diagnosis', 'result', 'delivered', 'substation', 'accept_time',\n",
       "       'arrival_time', 'name', 'coords', 'latitude', 'longitude', 'road_time',\n",
       "       'weekday', 'day', 'week', 'month', 'holiday', 'accept_datetime', 'T',\n",
       "       'Tg', 'Po', 'Pa', 'U', 'ff3', 'dtp_datetime'],\n",
       "      dtype='object')"
      ]
     },
     "execution_count": 895,
     "metadata": {},
     "output_type": "execute_result"
    }
   ],
   "source": [
    "data.columns"
   ]
  },
  {
   "cell_type": "code",
   "execution_count": null,
   "metadata": {},
   "outputs": [],
   "source": [
    "# TO DUMMY\n",
    "\n",
    "# occasion\n",
    "# result\n",
    "# calling\n",
    "# type\n",
    "\n",
    "# substation\n",
    "\n",
    "# holiday"
   ]
  },
  {
   "cell_type": "code",
   "execution_count": 482,
   "metadata": {},
   "outputs": [],
   "source": [
    "temp = data[['latitude', 'longitude', 'road_time', 'weekday', 'day', 'week', 'month']]"
   ]
  },
  {
   "cell_type": "code",
   "execution_count": 486,
   "metadata": {},
   "outputs": [],
   "source": [
    "for col in ['occasion', 'result', 'calling', 'type', 'substation', 'holiday']:\n",
    "    temp = pd.concat([temp, pd.get_dummies(data[col])], axis=1)"
   ]
  },
  {
   "cell_type": "code",
   "execution_count": 581,
   "metadata": {},
   "outputs": [
    {
     "data": {
      "text/plain": [
       "БСМП г. Дзержинск Юго-Западная          -0.021176\n",
       "БСМП г. Дзержинск Центральная           -0.017843\n",
       "ПСМП №6                                 -0.014405\n",
       "Попутный                                -0.013730\n",
       "ПСМП №4                                 -0.013507\n",
       "восстановление по бумажной технологии   -0.012791\n",
       "Чкаловская ЦРБ                          -0.010683\n",
       "БСМП г. Арзамас                         -0.010593\n",
       "Сергачская ЦРБ                          -0.010284\n",
       "ПСМП №1                                 -0.009748\n",
       "dtype: float64"
      ]
     },
     "execution_count": 581,
     "metadata": {},
     "output_type": "execute_result"
    }
   ],
   "source": [
    "temp.corrwith(temp.road_time).sort_values().head(10)"
   ]
  },
  {
   "cell_type": "code",
   "execution_count": 582,
   "metadata": {},
   "outputs": [
    {
     "data": {
      "text/plain": [
       "ПСМП №2                                 0.011817\n",
       "Первичный                               0.011820\n",
       "Володарская ЦРБ Ильиногорская           0.012783\n",
       "Кстовская ЦРБ                           0.013039\n",
       "Арзамасская РБ                          0.017940\n",
       "Авария (дтп) 1-2 пострадавших           0.020998\n",
       "Субфебрильная температура у взрослых    0.022439\n",
       "Борская ЦРБ                             0.029503\n",
       "Спасская ЦРБ                            0.040700\n",
       "road_time                               1.000000\n",
       "dtype: float64"
      ]
     },
     "execution_count": 582,
     "metadata": {},
     "output_type": "execute_result"
    }
   ],
   "source": [
    "temp.corrwith(temp.road_time).sort_values().tail(10)"
   ]
  },
  {
   "cell_type": "markdown",
   "metadata": {},
   "source": [
    "# Обучение модели"
   ]
  },
  {
   "cell_type": "code",
   "execution_count": 13,
   "metadata": {},
   "outputs": [
    {
     "name": "stderr",
     "output_type": "stream",
     "text": [
      "40221it [03:03, 218.89it/s]\n"
     ]
    }
   ],
   "source": [
    "random_data['road_time'] = 0\n",
    "for i, subst in tqdm(enumerate(random_data.substation.values)):\n",
    "    random_data.loc[i, 'road_time'] = data.loc[random_data.substation == subst, 'road_time'].sample(1).iloc[0]"
   ]
  },
  {
   "cell_type": "code",
   "execution_count": 14,
   "metadata": {},
   "outputs": [
    {
     "data": {
      "text/plain": [
       "0"
      ]
     },
     "execution_count": 14,
     "metadata": {},
     "output_type": "execute_result"
    }
   ],
   "source": [
    "random_data.road_time.isnull().sum()"
   ]
  },
  {
   "cell_type": "code",
   "execution_count": 92,
   "metadata": {},
   "outputs": [],
   "source": [
    "random_data.accept_datetime = pd.to_datetime(random_data.accept_datetime)"
   ]
  },
  {
   "cell_type": "code",
   "execution_count": 94,
   "metadata": {},
   "outputs": [],
   "source": [
    "data['hour'] = data.accept_datetime.apply(lambda x: x.hour)\n",
    "random_data['hour'] = random_data.accept_datetime.apply(lambda x: x.hour)"
   ]
  },
  {
   "cell_type": "markdown",
   "metadata": {},
   "source": [
    "## Предсказание вызова"
   ]
  },
  {
   "cell_type": "code",
   "execution_count": 153,
   "metadata": {},
   "outputs": [],
   "source": [
    "data['call_target'] = 1\n",
    "random_data['call_target'] = 0\n",
    "may_data['call_target'] = 1\n",
    "\n",
    "train_data = pd.concat([data, random_data])[[\n",
    "    # 'road_time', \n",
    "                                             'hour', 'weekday', 'day', 'week', 'month', 'holiday', \n",
    "                                             'T', 'Tg', 'Po', 'Pa', 'U', 'ff3', 'substation', 'call_target']]\n",
    "\n",
    "\n",
    "\n",
    "cat_features = ['substation', 'holiday']\n",
    "train_data[cat_features] = train_data[cat_features].fillna('')"
   ]
  },
  {
   "cell_type": "code",
   "execution_count": 154,
   "metadata": {},
   "outputs": [],
   "source": [
    "X_train, X_val, y_train, y_val = train_test_split(train_data.drop(['call_target'], axis=1),\n",
    "                                                  train_data['call_target'],\n",
    "                                                  stratify=train_data.substation,\n",
    "                                                  # stratify=train_data['call_target'].astype(str) + '+' + train_data['substation'],\n",
    "                                                  test_size=0.25)"
   ]
  },
  {
   "cell_type": "code",
   "execution_count": 155,
   "metadata": {},
   "outputs": [
    {
     "name": "stdout",
     "output_type": "stream",
     "text": [
      "0:\tlearn: 0.6920203\ttest: 0.6919483\tbest: 0.6919483 (0)\ttotal: 29.9ms\tremaining: 29.9s\n",
      "100:\tlearn: 0.6678928\ttest: 0.6670317\tbest: 0.6670317 (100)\ttotal: 3.61s\tremaining: 32.2s\n",
      "200:\tlearn: 0.6645517\ttest: 0.6644874\tbest: 0.6644874 (200)\ttotal: 7.26s\tremaining: 28.9s\n",
      "300:\tlearn: 0.6622460\ttest: 0.6631205\tbest: 0.6631205 (300)\ttotal: 10.6s\tremaining: 24.7s\n",
      "400:\tlearn: 0.6604730\ttest: 0.6622451\tbest: 0.6622451 (400)\ttotal: 13.9s\tremaining: 20.8s\n",
      "500:\tlearn: 0.6583648\ttest: 0.6612667\tbest: 0.6612667 (500)\ttotal: 17.4s\tremaining: 17.3s\n",
      "600:\tlearn: 0.6566661\ttest: 0.6607221\tbest: 0.6607221 (600)\ttotal: 20.8s\tremaining: 13.8s\n",
      "700:\tlearn: 0.6552202\ttest: 0.6604109\tbest: 0.6604109 (700)\ttotal: 24.3s\tremaining: 10.4s\n",
      "800:\tlearn: 0.6539773\ttest: 0.6601247\tbest: 0.6601247 (800)\ttotal: 27.6s\tremaining: 6.86s\n",
      "900:\tlearn: 0.6528319\ttest: 0.6598577\tbest: 0.6598563 (897)\ttotal: 30.9s\tremaining: 3.4s\n",
      "999:\tlearn: 0.6518270\ttest: 0.6597688\tbest: 0.6597688 (999)\ttotal: 33.9s\tremaining: 0us\n",
      "\n",
      "bestTest = 0.659768824\n",
      "bestIteration = 999\n",
      "\n"
     ]
    },
    {
     "data": {
      "text/plain": [
       "<catboost.core.CatBoostClassifier at 0x1b1c22970>"
      ]
     },
     "execution_count": 155,
     "metadata": {},
     "output_type": "execute_result"
    }
   ],
   "source": [
    "model = CatBoostClassifier(verbose=100, cat_features=cat_features,\n",
    "                           loss_function='MultiClassOneVsAll'\n",
    "                          )\n",
    "model.fit(X_train, y_train, eval_set=(X_val, y_val))"
   ]
  },
  {
   "cell_type": "code",
   "execution_count": 156,
   "metadata": {},
   "outputs": [
    {
     "name": "stdout",
     "output_type": "stream",
     "text": [
      "              precision    recall  f1-score   support\n",
      "\n",
      "           0       0.61      0.65      0.63     10036\n",
      "           1       0.59      0.55      0.57      9334\n",
      "\n",
      "    accuracy                           0.60     19370\n",
      "   macro avg       0.60      0.60      0.60     19370\n",
      "weighted avg       0.60      0.60      0.60     19370\n",
      "\n"
     ]
    }
   ],
   "source": [
    "print(classification_report(y_val, model.predict(X_val)))"
   ]
  },
  {
   "cell_type": "code",
   "execution_count": 157,
   "metadata": {},
   "outputs": [],
   "source": [
    "fip = pd.DataFrame()\n",
    "fip['feature'] = model.feature_names_\n",
    "fip['importance'] = model.get_feature_importance()\n",
    "fip = fip.sort_values('importance', ascending=False)"
   ]
  },
  {
   "cell_type": "code",
   "execution_count": 158,
   "metadata": {},
   "outputs": [
    {
     "data": {
      "text/html": [
       "<div>\n",
       "<style scoped>\n",
       "    .dataframe tbody tr th:only-of-type {\n",
       "        vertical-align: middle;\n",
       "    }\n",
       "\n",
       "    .dataframe tbody tr th {\n",
       "        vertical-align: top;\n",
       "    }\n",
       "\n",
       "    .dataframe thead th {\n",
       "        text-align: right;\n",
       "    }\n",
       "</style>\n",
       "<table border=\"1\" class=\"dataframe\">\n",
       "  <thead>\n",
       "    <tr style=\"text-align: right;\">\n",
       "      <th></th>\n",
       "      <th>feature</th>\n",
       "      <th>importance</th>\n",
       "    </tr>\n",
       "  </thead>\n",
       "  <tbody>\n",
       "    <tr>\n",
       "      <th>0</th>\n",
       "      <td>hour</td>\n",
       "      <td>34.585067</td>\n",
       "    </tr>\n",
       "    <tr>\n",
       "      <th>12</th>\n",
       "      <td>substation</td>\n",
       "      <td>17.205466</td>\n",
       "    </tr>\n",
       "    <tr>\n",
       "      <th>3</th>\n",
       "      <td>week</td>\n",
       "      <td>11.467148</td>\n",
       "    </tr>\n",
       "    <tr>\n",
       "      <th>2</th>\n",
       "      <td>day</td>\n",
       "      <td>10.536961</td>\n",
       "    </tr>\n",
       "    <tr>\n",
       "      <th>4</th>\n",
       "      <td>month</td>\n",
       "      <td>5.381643</td>\n",
       "    </tr>\n",
       "    <tr>\n",
       "      <th>1</th>\n",
       "      <td>weekday</td>\n",
       "      <td>4.941126</td>\n",
       "    </tr>\n",
       "    <tr>\n",
       "      <th>5</th>\n",
       "      <td>holiday</td>\n",
       "      <td>3.226552</td>\n",
       "    </tr>\n",
       "    <tr>\n",
       "      <th>10</th>\n",
       "      <td>U</td>\n",
       "      <td>2.950164</td>\n",
       "    </tr>\n",
       "    <tr>\n",
       "      <th>8</th>\n",
       "      <td>Po</td>\n",
       "      <td>2.920941</td>\n",
       "    </tr>\n",
       "    <tr>\n",
       "      <th>6</th>\n",
       "      <td>T</td>\n",
       "      <td>2.659290</td>\n",
       "    </tr>\n",
       "    <tr>\n",
       "      <th>9</th>\n",
       "      <td>Pa</td>\n",
       "      <td>2.248394</td>\n",
       "    </tr>\n",
       "    <tr>\n",
       "      <th>11</th>\n",
       "      <td>ff3</td>\n",
       "      <td>1.845048</td>\n",
       "    </tr>\n",
       "    <tr>\n",
       "      <th>7</th>\n",
       "      <td>Tg</td>\n",
       "      <td>0.032200</td>\n",
       "    </tr>\n",
       "  </tbody>\n",
       "</table>\n",
       "</div>"
      ],
      "text/plain": [
       "       feature  importance\n",
       "0         hour   34.585067\n",
       "12  substation   17.205466\n",
       "3         week   11.467148\n",
       "2          day   10.536961\n",
       "4        month    5.381643\n",
       "1      weekday    4.941126\n",
       "5      holiday    3.226552\n",
       "10           U    2.950164\n",
       "8           Po    2.920941\n",
       "6            T    2.659290\n",
       "9           Pa    2.248394\n",
       "11         ff3    1.845048\n",
       "7           Tg    0.032200"
      ]
     },
     "execution_count": 158,
     "metadata": {},
     "output_type": "execute_result"
    }
   ],
   "source": [
    "fip"
   ]
  },
  {
   "cell_type": "markdown",
   "metadata": {},
   "source": [
    "## Инференс предсказаний вызова"
   ]
  },
  {
   "cell_type": "code",
   "execution_count": 28,
   "metadata": {},
   "outputs": [
    {
     "data": {
      "text/plain": [
       "count    2670.000000\n",
       "mean       14.239813\n",
       "std        39.792961\n",
       "min         0.000000\n",
       "25%         8.583333\n",
       "50%        12.850000\n",
       "75%        16.433333\n",
       "max      1439.850000\n",
       "Name: road_time, dtype: float64"
      ]
     },
     "execution_count": 28,
     "metadata": {},
     "output_type": "execute_result"
    }
   ],
   "source": [
    "data.loc[data.substation == 'ПСМП №5', ['adress', 'substation', 'road_time']].road_time.describe()"
   ]
  },
  {
   "cell_type": "code",
   "execution_count": 29,
   "metadata": {},
   "outputs": [],
   "source": [
    "test = data.groupby('substation').road_time.mean().reset_index().copy()\n",
    "test['datetime'] = dt.datetime.now()"
   ]
  },
  {
   "cell_type": "code",
   "execution_count": 32,
   "metadata": {},
   "outputs": [],
   "source": [
    "test['weekday'] = test.datetime.apply(lambda x: x.weekday())\n",
    "test['day'] = test.datetime.apply(lambda x: x.day)\n",
    "test['week'] = test.datetime.apply(lambda x: x.week)\n",
    "test['month'] = test.datetime.apply(lambda x: x.month)\n",
    "test['holiday'] = test.datetime.apply(lambda x: holidays.RUS().get(x))\n",
    "test['holiday'] = test['holiday'].fillna('')"
   ]
  },
  {
   "cell_type": "code",
   "execution_count": 33,
   "metadata": {},
   "outputs": [
    {
     "name": "stderr",
     "output_type": "stream",
     "text": [
      "100%|██████████████████████████████████████████| 46/46 [00:00<00:00, 825.16it/s]\n"
     ]
    }
   ],
   "source": [
    "weather_for_data = pd.DataFrame()\n",
    "\n",
    "for adt in tqdm(test['datetime']):\n",
    "    weather_for_data = pd.concat([weather_for_data, weather[weather.datetime <= adt].iloc[-1:]],\n",
    "                                 ignore_index=True)\n",
    "    \n",
    "test[weather_for_data.columns[1:]] = weather_for_data[weather_for_data.columns[1:]]"
   ]
  },
  {
   "cell_type": "code",
   "execution_count": 34,
   "metadata": {},
   "outputs": [
    {
     "data": {
      "text/html": [
       "<div>\n",
       "<style scoped>\n",
       "    .dataframe tbody tr th:only-of-type {\n",
       "        vertical-align: middle;\n",
       "    }\n",
       "\n",
       "    .dataframe tbody tr th {\n",
       "        vertical-align: top;\n",
       "    }\n",
       "\n",
       "    .dataframe thead th {\n",
       "        text-align: right;\n",
       "    }\n",
       "</style>\n",
       "<table border=\"1\" class=\"dataframe\">\n",
       "  <thead>\n",
       "    <tr style=\"text-align: right;\">\n",
       "      <th></th>\n",
       "      <th>road_time</th>\n",
       "      <th>weekday</th>\n",
       "      <th>day</th>\n",
       "      <th>week</th>\n",
       "      <th>month</th>\n",
       "      <th>holiday</th>\n",
       "      <th>T</th>\n",
       "      <th>Tg</th>\n",
       "      <th>Po</th>\n",
       "      <th>Pa</th>\n",
       "      <th>U</th>\n",
       "      <th>ff3</th>\n",
       "      <th>substation</th>\n",
       "    </tr>\n",
       "  </thead>\n",
       "  <tbody>\n",
       "    <tr>\n",
       "      <th>0</th>\n",
       "      <td>5.800000</td>\n",
       "      <td>6</td>\n",
       "      <td>5</td>\n",
       "      <td>22</td>\n",
       "      <td>6</td>\n",
       "      <td></td>\n",
       "      <td>17.7</td>\n",
       "      <td>NaN</td>\n",
       "      <td>752.4</td>\n",
       "      <td>0.3</td>\n",
       "      <td>54</td>\n",
       "      <td>NaN</td>\n",
       "      <td>Ардатовская ЦРБ</td>\n",
       "    </tr>\n",
       "    <tr>\n",
       "      <th>1</th>\n",
       "      <td>18.556600</td>\n",
       "      <td>6</td>\n",
       "      <td>5</td>\n",
       "      <td>22</td>\n",
       "      <td>6</td>\n",
       "      <td></td>\n",
       "      <td>17.7</td>\n",
       "      <td>NaN</td>\n",
       "      <td>752.4</td>\n",
       "      <td>0.3</td>\n",
       "      <td>54</td>\n",
       "      <td>NaN</td>\n",
       "      <td>Арзамасская РБ</td>\n",
       "    </tr>\n",
       "    <tr>\n",
       "      <th>2</th>\n",
       "      <td>10.691313</td>\n",
       "      <td>6</td>\n",
       "      <td>5</td>\n",
       "      <td>22</td>\n",
       "      <td>6</td>\n",
       "      <td></td>\n",
       "      <td>17.7</td>\n",
       "      <td>NaN</td>\n",
       "      <td>752.4</td>\n",
       "      <td>0.3</td>\n",
       "      <td>54</td>\n",
       "      <td>NaN</td>\n",
       "      <td>БСМП г. Арзамас</td>\n",
       "    </tr>\n",
       "    <tr>\n",
       "      <th>3</th>\n",
       "      <td>9.362574</td>\n",
       "      <td>6</td>\n",
       "      <td>5</td>\n",
       "      <td>22</td>\n",
       "      <td>6</td>\n",
       "      <td></td>\n",
       "      <td>17.7</td>\n",
       "      <td>NaN</td>\n",
       "      <td>752.4</td>\n",
       "      <td>0.3</td>\n",
       "      <td>54</td>\n",
       "      <td>NaN</td>\n",
       "      <td>БСМП г. Дзержинск Центральная</td>\n",
       "    </tr>\n",
       "    <tr>\n",
       "      <th>4</th>\n",
       "      <td>9.552639</td>\n",
       "      <td>6</td>\n",
       "      <td>5</td>\n",
       "      <td>22</td>\n",
       "      <td>6</td>\n",
       "      <td></td>\n",
       "      <td>17.7</td>\n",
       "      <td>NaN</td>\n",
       "      <td>752.4</td>\n",
       "      <td>0.3</td>\n",
       "      <td>54</td>\n",
       "      <td>NaN</td>\n",
       "      <td>БСМП г. Дзержинск Юго-Западная</td>\n",
       "    </tr>\n",
       "    <tr>\n",
       "      <th>5</th>\n",
       "      <td>22.328623</td>\n",
       "      <td>6</td>\n",
       "      <td>5</td>\n",
       "      <td>22</td>\n",
       "      <td>6</td>\n",
       "      <td></td>\n",
       "      <td>17.7</td>\n",
       "      <td>NaN</td>\n",
       "      <td>752.4</td>\n",
       "      <td>0.3</td>\n",
       "      <td>54</td>\n",
       "      <td>NaN</td>\n",
       "      <td>Богородская ЦРБ</td>\n",
       "    </tr>\n",
       "    <tr>\n",
       "      <th>6</th>\n",
       "      <td>7.000000</td>\n",
       "      <td>6</td>\n",
       "      <td>5</td>\n",
       "      <td>22</td>\n",
       "      <td>6</td>\n",
       "      <td></td>\n",
       "      <td>17.7</td>\n",
       "      <td>NaN</td>\n",
       "      <td>752.4</td>\n",
       "      <td>0.3</td>\n",
       "      <td>54</td>\n",
       "      <td>NaN</td>\n",
       "      <td>Большемурашкинская ЦРБ</td>\n",
       "    </tr>\n",
       "    <tr>\n",
       "      <th>7</th>\n",
       "      <td>19.045431</td>\n",
       "      <td>6</td>\n",
       "      <td>5</td>\n",
       "      <td>22</td>\n",
       "      <td>6</td>\n",
       "      <td></td>\n",
       "      <td>17.7</td>\n",
       "      <td>NaN</td>\n",
       "      <td>752.4</td>\n",
       "      <td>0.3</td>\n",
       "      <td>54</td>\n",
       "      <td>NaN</td>\n",
       "      <td>Борская ЦРБ</td>\n",
       "    </tr>\n",
       "    <tr>\n",
       "      <th>8</th>\n",
       "      <td>18.959343</td>\n",
       "      <td>6</td>\n",
       "      <td>5</td>\n",
       "      <td>22</td>\n",
       "      <td>6</td>\n",
       "      <td></td>\n",
       "      <td>17.7</td>\n",
       "      <td>NaN</td>\n",
       "      <td>752.4</td>\n",
       "      <td>0.3</td>\n",
       "      <td>54</td>\n",
       "      <td>NaN</td>\n",
       "      <td>Борская ЦРБ СМП Затон ППК</td>\n",
       "    </tr>\n",
       "    <tr>\n",
       "      <th>9</th>\n",
       "      <td>18.788889</td>\n",
       "      <td>6</td>\n",
       "      <td>5</td>\n",
       "      <td>22</td>\n",
       "      <td>6</td>\n",
       "      <td></td>\n",
       "      <td>17.7</td>\n",
       "      <td>NaN</td>\n",
       "      <td>752.4</td>\n",
       "      <td>0.3</td>\n",
       "      <td>54</td>\n",
       "      <td>NaN</td>\n",
       "      <td>Борская ЦРБ СМП Кантаурово</td>\n",
       "    </tr>\n",
       "    <tr>\n",
       "      <th>10</th>\n",
       "      <td>15.680556</td>\n",
       "      <td>6</td>\n",
       "      <td>5</td>\n",
       "      <td>22</td>\n",
       "      <td>6</td>\n",
       "      <td></td>\n",
       "      <td>17.7</td>\n",
       "      <td>NaN</td>\n",
       "      <td>752.4</td>\n",
       "      <td>0.3</td>\n",
       "      <td>54</td>\n",
       "      <td>NaN</td>\n",
       "      <td>Борская ЦРБ СМП Линда</td>\n",
       "    </tr>\n",
       "    <tr>\n",
       "      <th>11</th>\n",
       "      <td>22.179348</td>\n",
       "      <td>6</td>\n",
       "      <td>5</td>\n",
       "      <td>22</td>\n",
       "      <td>6</td>\n",
       "      <td></td>\n",
       "      <td>17.7</td>\n",
       "      <td>NaN</td>\n",
       "      <td>752.4</td>\n",
       "      <td>0.3</td>\n",
       "      <td>54</td>\n",
       "      <td>NaN</td>\n",
       "      <td>Борская ЦРБ СМП Чисто-Борское</td>\n",
       "    </tr>\n",
       "    <tr>\n",
       "      <th>12</th>\n",
       "      <td>30.604598</td>\n",
       "      <td>6</td>\n",
       "      <td>5</td>\n",
       "      <td>22</td>\n",
       "      <td>6</td>\n",
       "      <td></td>\n",
       "      <td>17.7</td>\n",
       "      <td>NaN</td>\n",
       "      <td>752.4</td>\n",
       "      <td>0.3</td>\n",
       "      <td>54</td>\n",
       "      <td>NaN</td>\n",
       "      <td>Борская ЦРБ СМП Чистое Поле</td>\n",
       "    </tr>\n",
       "    <tr>\n",
       "      <th>13</th>\n",
       "      <td>9.134444</td>\n",
       "      <td>6</td>\n",
       "      <td>5</td>\n",
       "      <td>22</td>\n",
       "      <td>6</td>\n",
       "      <td></td>\n",
       "      <td>17.7</td>\n",
       "      <td>NaN</td>\n",
       "      <td>752.4</td>\n",
       "      <td>0.3</td>\n",
       "      <td>54</td>\n",
       "      <td>NaN</td>\n",
       "      <td>Вадская ЦРБ</td>\n",
       "    </tr>\n",
       "    <tr>\n",
       "      <th>14</th>\n",
       "      <td>5.755814</td>\n",
       "      <td>6</td>\n",
       "      <td>5</td>\n",
       "      <td>22</td>\n",
       "      <td>6</td>\n",
       "      <td></td>\n",
       "      <td>17.7</td>\n",
       "      <td>NaN</td>\n",
       "      <td>752.4</td>\n",
       "      <td>0.3</td>\n",
       "      <td>54</td>\n",
       "      <td>NaN</td>\n",
       "      <td>Ветлужская ЦРБ</td>\n",
       "    </tr>\n",
       "    <tr>\n",
       "      <th>15</th>\n",
       "      <td>16.923536</td>\n",
       "      <td>6</td>\n",
       "      <td>5</td>\n",
       "      <td>22</td>\n",
       "      <td>6</td>\n",
       "      <td></td>\n",
       "      <td>17.7</td>\n",
       "      <td>NaN</td>\n",
       "      <td>752.4</td>\n",
       "      <td>0.3</td>\n",
       "      <td>54</td>\n",
       "      <td>NaN</td>\n",
       "      <td>Володарская ЦРБ</td>\n",
       "    </tr>\n",
       "    <tr>\n",
       "      <th>16</th>\n",
       "      <td>18.989568</td>\n",
       "      <td>6</td>\n",
       "      <td>5</td>\n",
       "      <td>22</td>\n",
       "      <td>6</td>\n",
       "      <td></td>\n",
       "      <td>17.7</td>\n",
       "      <td>NaN</td>\n",
       "      <td>752.4</td>\n",
       "      <td>0.3</td>\n",
       "      <td>54</td>\n",
       "      <td>NaN</td>\n",
       "      <td>Володарская ЦРБ Ильиногорская</td>\n",
       "    </tr>\n",
       "    <tr>\n",
       "      <th>17</th>\n",
       "      <td>14.396559</td>\n",
       "      <td>6</td>\n",
       "      <td>5</td>\n",
       "      <td>22</td>\n",
       "      <td>6</td>\n",
       "      <td></td>\n",
       "      <td>17.7</td>\n",
       "      <td>NaN</td>\n",
       "      <td>752.4</td>\n",
       "      <td>0.3</td>\n",
       "      <td>54</td>\n",
       "      <td>NaN</td>\n",
       "      <td>Воротынская ЦРБ</td>\n",
       "    </tr>\n",
       "    <tr>\n",
       "      <th>18</th>\n",
       "      <td>15.733460</td>\n",
       "      <td>6</td>\n",
       "      <td>5</td>\n",
       "      <td>22</td>\n",
       "      <td>6</td>\n",
       "      <td></td>\n",
       "      <td>17.7</td>\n",
       "      <td>NaN</td>\n",
       "      <td>752.4</td>\n",
       "      <td>0.3</td>\n",
       "      <td>54</td>\n",
       "      <td>NaN</td>\n",
       "      <td>Выксунская ЦРБ</td>\n",
       "    </tr>\n",
       "    <tr>\n",
       "      <th>19</th>\n",
       "      <td>16.809031</td>\n",
       "      <td>6</td>\n",
       "      <td>5</td>\n",
       "      <td>22</td>\n",
       "      <td>6</td>\n",
       "      <td></td>\n",
       "      <td>17.7</td>\n",
       "      <td>NaN</td>\n",
       "      <td>752.4</td>\n",
       "      <td>0.3</td>\n",
       "      <td>54</td>\n",
       "      <td>NaN</td>\n",
       "      <td>Городецкая ЦРБ</td>\n",
       "    </tr>\n",
       "    <tr>\n",
       "      <th>20</th>\n",
       "      <td>16.195088</td>\n",
       "      <td>6</td>\n",
       "      <td>5</td>\n",
       "      <td>22</td>\n",
       "      <td>6</td>\n",
       "      <td></td>\n",
       "      <td>17.7</td>\n",
       "      <td>NaN</td>\n",
       "      <td>752.4</td>\n",
       "      <td>0.3</td>\n",
       "      <td>54</td>\n",
       "      <td>NaN</td>\n",
       "      <td>Кстовская ЦРБ</td>\n",
       "    </tr>\n",
       "    <tr>\n",
       "      <th>21</th>\n",
       "      <td>15.182126</td>\n",
       "      <td>6</td>\n",
       "      <td>5</td>\n",
       "      <td>22</td>\n",
       "      <td>6</td>\n",
       "      <td></td>\n",
       "      <td>17.7</td>\n",
       "      <td>NaN</td>\n",
       "      <td>752.4</td>\n",
       "      <td>0.3</td>\n",
       "      <td>54</td>\n",
       "      <td>NaN</td>\n",
       "      <td>Кулебакская ЦРБ</td>\n",
       "    </tr>\n",
       "    <tr>\n",
       "      <th>22</th>\n",
       "      <td>13.609807</td>\n",
       "      <td>6</td>\n",
       "      <td>5</td>\n",
       "      <td>22</td>\n",
       "      <td>6</td>\n",
       "      <td></td>\n",
       "      <td>17.7</td>\n",
       "      <td>NaN</td>\n",
       "      <td>752.4</td>\n",
       "      <td>0.3</td>\n",
       "      <td>54</td>\n",
       "      <td>NaN</td>\n",
       "      <td>Лысковская ЦРБ</td>\n",
       "    </tr>\n",
       "    <tr>\n",
       "      <th>23</th>\n",
       "      <td>7.742460</td>\n",
       "      <td>6</td>\n",
       "      <td>5</td>\n",
       "      <td>22</td>\n",
       "      <td>6</td>\n",
       "      <td></td>\n",
       "      <td>17.7</td>\n",
       "      <td>NaN</td>\n",
       "      <td>752.4</td>\n",
       "      <td>0.3</td>\n",
       "      <td>54</td>\n",
       "      <td>NaN</td>\n",
       "      <td>Навашинская ЦРБ</td>\n",
       "    </tr>\n",
       "    <tr>\n",
       "      <th>24</th>\n",
       "      <td>12.157464</td>\n",
       "      <td>6</td>\n",
       "      <td>5</td>\n",
       "      <td>22</td>\n",
       "      <td>6</td>\n",
       "      <td></td>\n",
       "      <td>17.7</td>\n",
       "      <td>NaN</td>\n",
       "      <td>752.4</td>\n",
       "      <td>0.3</td>\n",
       "      <td>54</td>\n",
       "      <td>NaN</td>\n",
       "      <td>ПСМП №1</td>\n",
       "    </tr>\n",
       "    <tr>\n",
       "      <th>25</th>\n",
       "      <td>16.087571</td>\n",
       "      <td>6</td>\n",
       "      <td>5</td>\n",
       "      <td>22</td>\n",
       "      <td>6</td>\n",
       "      <td></td>\n",
       "      <td>17.7</td>\n",
       "      <td>NaN</td>\n",
       "      <td>752.4</td>\n",
       "      <td>0.3</td>\n",
       "      <td>54</td>\n",
       "      <td>NaN</td>\n",
       "      <td>ПСМП №2</td>\n",
       "    </tr>\n",
       "    <tr>\n",
       "      <th>26</th>\n",
       "      <td>13.706211</td>\n",
       "      <td>6</td>\n",
       "      <td>5</td>\n",
       "      <td>22</td>\n",
       "      <td>6</td>\n",
       "      <td></td>\n",
       "      <td>17.7</td>\n",
       "      <td>NaN</td>\n",
       "      <td>752.4</td>\n",
       "      <td>0.3</td>\n",
       "      <td>54</td>\n",
       "      <td>NaN</td>\n",
       "      <td>ПСМП №3</td>\n",
       "    </tr>\n",
       "    <tr>\n",
       "      <th>27</th>\n",
       "      <td>10.769318</td>\n",
       "      <td>6</td>\n",
       "      <td>5</td>\n",
       "      <td>22</td>\n",
       "      <td>6</td>\n",
       "      <td></td>\n",
       "      <td>17.7</td>\n",
       "      <td>NaN</td>\n",
       "      <td>752.4</td>\n",
       "      <td>0.3</td>\n",
       "      <td>54</td>\n",
       "      <td>NaN</td>\n",
       "      <td>ПСМП №4</td>\n",
       "    </tr>\n",
       "    <tr>\n",
       "      <th>28</th>\n",
       "      <td>14.239813</td>\n",
       "      <td>6</td>\n",
       "      <td>5</td>\n",
       "      <td>22</td>\n",
       "      <td>6</td>\n",
       "      <td></td>\n",
       "      <td>17.7</td>\n",
       "      <td>NaN</td>\n",
       "      <td>752.4</td>\n",
       "      <td>0.3</td>\n",
       "      <td>54</td>\n",
       "      <td>NaN</td>\n",
       "      <td>ПСМП №5</td>\n",
       "    </tr>\n",
       "    <tr>\n",
       "      <th>29</th>\n",
       "      <td>10.858272</td>\n",
       "      <td>6</td>\n",
       "      <td>5</td>\n",
       "      <td>22</td>\n",
       "      <td>6</td>\n",
       "      <td></td>\n",
       "      <td>17.7</td>\n",
       "      <td>NaN</td>\n",
       "      <td>752.4</td>\n",
       "      <td>0.3</td>\n",
       "      <td>54</td>\n",
       "      <td>NaN</td>\n",
       "      <td>ПСМП №6</td>\n",
       "    </tr>\n",
       "    <tr>\n",
       "      <th>30</th>\n",
       "      <td>12.851764</td>\n",
       "      <td>6</td>\n",
       "      <td>5</td>\n",
       "      <td>22</td>\n",
       "      <td>6</td>\n",
       "      <td></td>\n",
       "      <td>17.7</td>\n",
       "      <td>NaN</td>\n",
       "      <td>752.4</td>\n",
       "      <td>0.3</td>\n",
       "      <td>54</td>\n",
       "      <td>NaN</td>\n",
       "      <td>ПСМП №7</td>\n",
       "    </tr>\n",
       "    <tr>\n",
       "      <th>31</th>\n",
       "      <td>13.381405</td>\n",
       "      <td>6</td>\n",
       "      <td>5</td>\n",
       "      <td>22</td>\n",
       "      <td>6</td>\n",
       "      <td></td>\n",
       "      <td>17.7</td>\n",
       "      <td>NaN</td>\n",
       "      <td>752.4</td>\n",
       "      <td>0.3</td>\n",
       "      <td>54</td>\n",
       "      <td>NaN</td>\n",
       "      <td>ПСМП №8</td>\n",
       "    </tr>\n",
       "    <tr>\n",
       "      <th>32</th>\n",
       "      <td>14.175639</td>\n",
       "      <td>6</td>\n",
       "      <td>5</td>\n",
       "      <td>22</td>\n",
       "      <td>6</td>\n",
       "      <td></td>\n",
       "      <td>17.7</td>\n",
       "      <td>NaN</td>\n",
       "      <td>752.4</td>\n",
       "      <td>0.3</td>\n",
       "      <td>54</td>\n",
       "      <td>NaN</td>\n",
       "      <td>ПСМП №9</td>\n",
       "    </tr>\n",
       "    <tr>\n",
       "      <th>33</th>\n",
       "      <td>13.459666</td>\n",
       "      <td>6</td>\n",
       "      <td>5</td>\n",
       "      <td>22</td>\n",
       "      <td>6</td>\n",
       "      <td></td>\n",
       "      <td>17.7</td>\n",
       "      <td>NaN</td>\n",
       "      <td>752.4</td>\n",
       "      <td>0.3</td>\n",
       "      <td>54</td>\n",
       "      <td>NaN</td>\n",
       "      <td>Павловская ЦРБ</td>\n",
       "    </tr>\n",
       "    <tr>\n",
       "      <th>34</th>\n",
       "      <td>9.688652</td>\n",
       "      <td>6</td>\n",
       "      <td>5</td>\n",
       "      <td>22</td>\n",
       "      <td>6</td>\n",
       "      <td></td>\n",
       "      <td>17.7</td>\n",
       "      <td>NaN</td>\n",
       "      <td>752.4</td>\n",
       "      <td>0.3</td>\n",
       "      <td>54</td>\n",
       "      <td>NaN</td>\n",
       "      <td>Первомайская ЦРБ</td>\n",
       "    </tr>\n",
       "    <tr>\n",
       "      <th>35</th>\n",
       "      <td>13.005903</td>\n",
       "      <td>6</td>\n",
       "      <td>5</td>\n",
       "      <td>22</td>\n",
       "      <td>6</td>\n",
       "      <td></td>\n",
       "      <td>17.7</td>\n",
       "      <td>NaN</td>\n",
       "      <td>752.4</td>\n",
       "      <td>0.3</td>\n",
       "      <td>54</td>\n",
       "      <td>NaN</td>\n",
       "      <td>Перевозская ЦРБ</td>\n",
       "    </tr>\n",
       "    <tr>\n",
       "      <th>36</th>\n",
       "      <td>12.972917</td>\n",
       "      <td>6</td>\n",
       "      <td>5</td>\n",
       "      <td>22</td>\n",
       "      <td>6</td>\n",
       "      <td></td>\n",
       "      <td>17.7</td>\n",
       "      <td>NaN</td>\n",
       "      <td>752.4</td>\n",
       "      <td>0.3</td>\n",
       "      <td>54</td>\n",
       "      <td>NaN</td>\n",
       "      <td>Пильнинская ЦРБ</td>\n",
       "    </tr>\n",
       "    <tr>\n",
       "      <th>37</th>\n",
       "      <td>17.743009</td>\n",
       "      <td>6</td>\n",
       "      <td>5</td>\n",
       "      <td>22</td>\n",
       "      <td>6</td>\n",
       "      <td></td>\n",
       "      <td>17.7</td>\n",
       "      <td>NaN</td>\n",
       "      <td>752.4</td>\n",
       "      <td>0.3</td>\n",
       "      <td>54</td>\n",
       "      <td>NaN</td>\n",
       "      <td>Семеновская ЦРБ</td>\n",
       "    </tr>\n",
       "    <tr>\n",
       "      <th>38</th>\n",
       "      <td>8.695342</td>\n",
       "      <td>6</td>\n",
       "      <td>5</td>\n",
       "      <td>22</td>\n",
       "      <td>6</td>\n",
       "      <td></td>\n",
       "      <td>17.7</td>\n",
       "      <td>NaN</td>\n",
       "      <td>752.4</td>\n",
       "      <td>0.3</td>\n",
       "      <td>54</td>\n",
       "      <td>NaN</td>\n",
       "      <td>Сергачская ЦРБ</td>\n",
       "    </tr>\n",
       "    <tr>\n",
       "      <th>39</th>\n",
       "      <td>9.262136</td>\n",
       "      <td>6</td>\n",
       "      <td>5</td>\n",
       "      <td>22</td>\n",
       "      <td>6</td>\n",
       "      <td></td>\n",
       "      <td>17.7</td>\n",
       "      <td>NaN</td>\n",
       "      <td>752.4</td>\n",
       "      <td>0.3</td>\n",
       "      <td>54</td>\n",
       "      <td>NaN</td>\n",
       "      <td>Сосновская ЦРБ</td>\n",
       "    </tr>\n",
       "    <tr>\n",
       "      <th>40</th>\n",
       "      <td>185.591667</td>\n",
       "      <td>6</td>\n",
       "      <td>5</td>\n",
       "      <td>22</td>\n",
       "      <td>6</td>\n",
       "      <td></td>\n",
       "      <td>17.7</td>\n",
       "      <td>NaN</td>\n",
       "      <td>752.4</td>\n",
       "      <td>0.3</td>\n",
       "      <td>54</td>\n",
       "      <td>NaN</td>\n",
       "      <td>Спасская ЦРБ</td>\n",
       "    </tr>\n",
       "    <tr>\n",
       "      <th>41</th>\n",
       "      <td>5.016667</td>\n",
       "      <td>6</td>\n",
       "      <td>5</td>\n",
       "      <td>22</td>\n",
       "      <td>6</td>\n",
       "      <td></td>\n",
       "      <td>17.7</td>\n",
       "      <td>NaN</td>\n",
       "      <td>752.4</td>\n",
       "      <td>0.3</td>\n",
       "      <td>54</td>\n",
       "      <td>NaN</td>\n",
       "      <td>Тонкинская ЦРБ</td>\n",
       "    </tr>\n",
       "    <tr>\n",
       "      <th>42</th>\n",
       "      <td>17.333333</td>\n",
       "      <td>6</td>\n",
       "      <td>5</td>\n",
       "      <td>22</td>\n",
       "      <td>6</td>\n",
       "      <td></td>\n",
       "      <td>17.7</td>\n",
       "      <td>NaN</td>\n",
       "      <td>752.4</td>\n",
       "      <td>0.3</td>\n",
       "      <td>54</td>\n",
       "      <td>NaN</td>\n",
       "      <td>Уренская ЦРБ</td>\n",
       "    </tr>\n",
       "    <tr>\n",
       "      <th>43</th>\n",
       "      <td>10.591687</td>\n",
       "      <td>6</td>\n",
       "      <td>5</td>\n",
       "      <td>22</td>\n",
       "      <td>6</td>\n",
       "      <td></td>\n",
       "      <td>17.7</td>\n",
       "      <td>NaN</td>\n",
       "      <td>752.4</td>\n",
       "      <td>0.3</td>\n",
       "      <td>54</td>\n",
       "      <td>NaN</td>\n",
       "      <td>Чкаловская ЦРБ</td>\n",
       "    </tr>\n",
       "    <tr>\n",
       "      <th>44</th>\n",
       "      <td>19.779812</td>\n",
       "      <td>6</td>\n",
       "      <td>5</td>\n",
       "      <td>22</td>\n",
       "      <td>6</td>\n",
       "      <td></td>\n",
       "      <td>17.7</td>\n",
       "      <td>NaN</td>\n",
       "      <td>752.4</td>\n",
       "      <td>0.3</td>\n",
       "      <td>54</td>\n",
       "      <td>NaN</td>\n",
       "      <td>Шатковская ЦРБ</td>\n",
       "    </tr>\n",
       "    <tr>\n",
       "      <th>45</th>\n",
       "      <td>10.142593</td>\n",
       "      <td>6</td>\n",
       "      <td>5</td>\n",
       "      <td>22</td>\n",
       "      <td>6</td>\n",
       "      <td></td>\n",
       "      <td>17.7</td>\n",
       "      <td>NaN</td>\n",
       "      <td>752.4</td>\n",
       "      <td>0.3</td>\n",
       "      <td>54</td>\n",
       "      <td>NaN</td>\n",
       "      <td>Шахунская ЦРБ</td>\n",
       "    </tr>\n",
       "  </tbody>\n",
       "</table>\n",
       "</div>"
      ],
      "text/plain": [
       "     road_time  weekday  day  week  month holiday     T  Tg     Po   Pa   U  \\\n",
       "0     5.800000        6    5    22      6          17.7 NaN  752.4  0.3  54   \n",
       "1    18.556600        6    5    22      6          17.7 NaN  752.4  0.3  54   \n",
       "2    10.691313        6    5    22      6          17.7 NaN  752.4  0.3  54   \n",
       "3     9.362574        6    5    22      6          17.7 NaN  752.4  0.3  54   \n",
       "4     9.552639        6    5    22      6          17.7 NaN  752.4  0.3  54   \n",
       "5    22.328623        6    5    22      6          17.7 NaN  752.4  0.3  54   \n",
       "6     7.000000        6    5    22      6          17.7 NaN  752.4  0.3  54   \n",
       "7    19.045431        6    5    22      6          17.7 NaN  752.4  0.3  54   \n",
       "8    18.959343        6    5    22      6          17.7 NaN  752.4  0.3  54   \n",
       "9    18.788889        6    5    22      6          17.7 NaN  752.4  0.3  54   \n",
       "10   15.680556        6    5    22      6          17.7 NaN  752.4  0.3  54   \n",
       "11   22.179348        6    5    22      6          17.7 NaN  752.4  0.3  54   \n",
       "12   30.604598        6    5    22      6          17.7 NaN  752.4  0.3  54   \n",
       "13    9.134444        6    5    22      6          17.7 NaN  752.4  0.3  54   \n",
       "14    5.755814        6    5    22      6          17.7 NaN  752.4  0.3  54   \n",
       "15   16.923536        6    5    22      6          17.7 NaN  752.4  0.3  54   \n",
       "16   18.989568        6    5    22      6          17.7 NaN  752.4  0.3  54   \n",
       "17   14.396559        6    5    22      6          17.7 NaN  752.4  0.3  54   \n",
       "18   15.733460        6    5    22      6          17.7 NaN  752.4  0.3  54   \n",
       "19   16.809031        6    5    22      6          17.7 NaN  752.4  0.3  54   \n",
       "20   16.195088        6    5    22      6          17.7 NaN  752.4  0.3  54   \n",
       "21   15.182126        6    5    22      6          17.7 NaN  752.4  0.3  54   \n",
       "22   13.609807        6    5    22      6          17.7 NaN  752.4  0.3  54   \n",
       "23    7.742460        6    5    22      6          17.7 NaN  752.4  0.3  54   \n",
       "24   12.157464        6    5    22      6          17.7 NaN  752.4  0.3  54   \n",
       "25   16.087571        6    5    22      6          17.7 NaN  752.4  0.3  54   \n",
       "26   13.706211        6    5    22      6          17.7 NaN  752.4  0.3  54   \n",
       "27   10.769318        6    5    22      6          17.7 NaN  752.4  0.3  54   \n",
       "28   14.239813        6    5    22      6          17.7 NaN  752.4  0.3  54   \n",
       "29   10.858272        6    5    22      6          17.7 NaN  752.4  0.3  54   \n",
       "30   12.851764        6    5    22      6          17.7 NaN  752.4  0.3  54   \n",
       "31   13.381405        6    5    22      6          17.7 NaN  752.4  0.3  54   \n",
       "32   14.175639        6    5    22      6          17.7 NaN  752.4  0.3  54   \n",
       "33   13.459666        6    5    22      6          17.7 NaN  752.4  0.3  54   \n",
       "34    9.688652        6    5    22      6          17.7 NaN  752.4  0.3  54   \n",
       "35   13.005903        6    5    22      6          17.7 NaN  752.4  0.3  54   \n",
       "36   12.972917        6    5    22      6          17.7 NaN  752.4  0.3  54   \n",
       "37   17.743009        6    5    22      6          17.7 NaN  752.4  0.3  54   \n",
       "38    8.695342        6    5    22      6          17.7 NaN  752.4  0.3  54   \n",
       "39    9.262136        6    5    22      6          17.7 NaN  752.4  0.3  54   \n",
       "40  185.591667        6    5    22      6          17.7 NaN  752.4  0.3  54   \n",
       "41    5.016667        6    5    22      6          17.7 NaN  752.4  0.3  54   \n",
       "42   17.333333        6    5    22      6          17.7 NaN  752.4  0.3  54   \n",
       "43   10.591687        6    5    22      6          17.7 NaN  752.4  0.3  54   \n",
       "44   19.779812        6    5    22      6          17.7 NaN  752.4  0.3  54   \n",
       "45   10.142593        6    5    22      6          17.7 NaN  752.4  0.3  54   \n",
       "\n",
       "    ff3                      substation  \n",
       "0   NaN                 Ардатовская ЦРБ  \n",
       "1   NaN                  Арзамасская РБ  \n",
       "2   NaN                 БСМП г. Арзамас  \n",
       "3   NaN   БСМП г. Дзержинск Центральная  \n",
       "4   NaN  БСМП г. Дзержинск Юго-Западная  \n",
       "5   NaN                 Богородская ЦРБ  \n",
       "6   NaN          Большемурашкинская ЦРБ  \n",
       "7   NaN                     Борская ЦРБ  \n",
       "8   NaN       Борская ЦРБ СМП Затон ППК  \n",
       "9   NaN      Борская ЦРБ СМП Кантаурово  \n",
       "10  NaN           Борская ЦРБ СМП Линда  \n",
       "11  NaN   Борская ЦРБ СМП Чисто-Борское  \n",
       "12  NaN     Борская ЦРБ СМП Чистое Поле  \n",
       "13  NaN                     Вадская ЦРБ  \n",
       "14  NaN                  Ветлужская ЦРБ  \n",
       "15  NaN                 Володарская ЦРБ  \n",
       "16  NaN   Володарская ЦРБ Ильиногорская  \n",
       "17  NaN                 Воротынская ЦРБ  \n",
       "18  NaN                  Выксунская ЦРБ  \n",
       "19  NaN                  Городецкая ЦРБ  \n",
       "20  NaN                   Кстовская ЦРБ  \n",
       "21  NaN                 Кулебакская ЦРБ  \n",
       "22  NaN                  Лысковская ЦРБ  \n",
       "23  NaN                 Навашинская ЦРБ  \n",
       "24  NaN                         ПСМП №1  \n",
       "25  NaN                         ПСМП №2  \n",
       "26  NaN                         ПСМП №3  \n",
       "27  NaN                         ПСМП №4  \n",
       "28  NaN                         ПСМП №5  \n",
       "29  NaN                         ПСМП №6  \n",
       "30  NaN                         ПСМП №7  \n",
       "31  NaN                         ПСМП №8  \n",
       "32  NaN                         ПСМП №9  \n",
       "33  NaN                  Павловская ЦРБ  \n",
       "34  NaN                Первомайская ЦРБ  \n",
       "35  NaN                 Перевозская ЦРБ  \n",
       "36  NaN                 Пильнинская ЦРБ  \n",
       "37  NaN                 Семеновская ЦРБ  \n",
       "38  NaN                  Сергачская ЦРБ  \n",
       "39  NaN                  Сосновская ЦРБ  \n",
       "40  NaN                    Спасская ЦРБ  \n",
       "41  NaN                  Тонкинская ЦРБ  \n",
       "42  NaN                    Уренская ЦРБ  \n",
       "43  NaN                  Чкаловская ЦРБ  \n",
       "44  NaN                  Шатковская ЦРБ  \n",
       "45  NaN                   Шахунская ЦРБ  "
      ]
     },
     "execution_count": 34,
     "metadata": {},
     "output_type": "execute_result"
    }
   ],
   "source": [
    "test[model.feature_names_]"
   ]
  },
  {
   "cell_type": "code",
   "execution_count": 35,
   "metadata": {},
   "outputs": [
    {
     "data": {
      "text/plain": [
       "array([0.45535026, 0.3729827 , 0.35549121, 0.38619559, 0.40865863,\n",
       "       0.4185179 , 0.32492091, 0.52621074, 0.19142581, 0.28281644,\n",
       "       0.15313981, 0.30128048, 0.55102889, 0.27064822, 0.54231124,\n",
       "       0.28866809, 0.54084907, 0.1419914 , 0.28720958, 0.1624443 ,\n",
       "       0.3656728 , 0.44982808, 0.23666726, 0.27609169, 0.49937537,\n",
       "       0.47969218, 0.55086509, 0.37980376, 0.50782634, 0.32199877,\n",
       "       0.56907455, 0.51338328, 0.48671107, 0.22270804, 0.23804965,\n",
       "       0.23007421, 0.16038996, 0.19620073, 0.41441824, 0.26912106,\n",
       "       0.4837916 , 0.56070722, 0.26602662, 0.18441056, 0.37152167,\n",
       "       0.14193726])"
      ]
     },
     "execution_count": 35,
     "metadata": {},
     "output_type": "execute_result"
    }
   ],
   "source": [
    "model.predict_proba(test[model.feature_names_])[:, -1]"
   ]
  },
  {
   "cell_type": "code",
   "execution_count": 38,
   "metadata": {},
   "outputs": [],
   "source": [
    "test_res = pd.DataFrame()\n",
    "test_res['substation'] = test.substation\n",
    "# test_res = \n",
    "test_res = pd.merge(test_res, substations[['name', 'latitude', 'longitude']], \n",
    "                    left_on='substation', right_on='name', how='left')\n",
    "test_res['call_target'] = model.predict_proba(test[model.feature_names_])[:, -1]"
   ]
  },
  {
   "cell_type": "code",
   "execution_count": 39,
   "metadata": {},
   "outputs": [],
   "source": [
    "test_res.to_csv('test_res.csv', index=False)"
   ]
  },
  {
   "cell_type": "code",
   "execution_count": 40,
   "metadata": {},
   "outputs": [
    {
     "data": {
      "text/html": [
       "<div>\n",
       "<style scoped>\n",
       "    .dataframe tbody tr th:only-of-type {\n",
       "        vertical-align: middle;\n",
       "    }\n",
       "\n",
       "    .dataframe tbody tr th {\n",
       "        vertical-align: top;\n",
       "    }\n",
       "\n",
       "    .dataframe thead th {\n",
       "        text-align: right;\n",
       "    }\n",
       "</style>\n",
       "<table border=\"1\" class=\"dataframe\">\n",
       "  <thead>\n",
       "    <tr style=\"text-align: right;\">\n",
       "      <th></th>\n",
       "      <th>substation</th>\n",
       "      <th>name</th>\n",
       "      <th>latitude</th>\n",
       "      <th>longitude</th>\n",
       "      <th>call_target</th>\n",
       "    </tr>\n",
       "  </thead>\n",
       "  <tbody>\n",
       "    <tr>\n",
       "      <th>0</th>\n",
       "      <td>Ардатовская ЦРБ</td>\n",
       "      <td>Ардатовская ЦРБ</td>\n",
       "      <td>55.236419</td>\n",
       "      <td>43.110220</td>\n",
       "      <td>0.455350</td>\n",
       "    </tr>\n",
       "    <tr>\n",
       "      <th>1</th>\n",
       "      <td>Арзамасская РБ</td>\n",
       "      <td>Арзамасская РБ</td>\n",
       "      <td>55.386209</td>\n",
       "      <td>43.776236</td>\n",
       "      <td>0.372983</td>\n",
       "    </tr>\n",
       "    <tr>\n",
       "      <th>2</th>\n",
       "      <td>БСМП г. Арзамас</td>\n",
       "      <td>БСМП г. Арзамас</td>\n",
       "      <td>55.398313</td>\n",
       "      <td>43.820556</td>\n",
       "      <td>0.355491</td>\n",
       "    </tr>\n",
       "    <tr>\n",
       "      <th>3</th>\n",
       "      <td>БСМП г. Дзержинск Центральная</td>\n",
       "      <td>БСМП г. Дзержинск Центральная</td>\n",
       "      <td>56.245820</td>\n",
       "      <td>43.473968</td>\n",
       "      <td>0.386196</td>\n",
       "    </tr>\n",
       "    <tr>\n",
       "      <th>4</th>\n",
       "      <td>БСМП г. Дзержинск Юго-Западная</td>\n",
       "      <td>БСМП г. Дзержинск Юго-Западная</td>\n",
       "      <td>56.223359</td>\n",
       "      <td>43.381932</td>\n",
       "      <td>0.408659</td>\n",
       "    </tr>\n",
       "    <tr>\n",
       "      <th>5</th>\n",
       "      <td>Богородская ЦРБ</td>\n",
       "      <td>Богородская ЦРБ</td>\n",
       "      <td>56.098540</td>\n",
       "      <td>43.532799</td>\n",
       "      <td>0.418518</td>\n",
       "    </tr>\n",
       "    <tr>\n",
       "      <th>6</th>\n",
       "      <td>Большемурашкинская ЦРБ</td>\n",
       "      <td>Большемурашкинская ЦРБ</td>\n",
       "      <td>55.785696</td>\n",
       "      <td>44.786794</td>\n",
       "      <td>0.324921</td>\n",
       "    </tr>\n",
       "    <tr>\n",
       "      <th>7</th>\n",
       "      <td>Борская ЦРБ</td>\n",
       "      <td>Борская ЦРБ</td>\n",
       "      <td>56.378690</td>\n",
       "      <td>44.026078</td>\n",
       "      <td>0.526211</td>\n",
       "    </tr>\n",
       "    <tr>\n",
       "      <th>8</th>\n",
       "      <td>Борская ЦРБ СМП Затон ППК</td>\n",
       "      <td>Борская ЦРБ СМП Затон ППК</td>\n",
       "      <td>56.358701</td>\n",
       "      <td>44.061529</td>\n",
       "      <td>0.191426</td>\n",
       "    </tr>\n",
       "    <tr>\n",
       "      <th>9</th>\n",
       "      <td>Борская ЦРБ СМП Кантаурово</td>\n",
       "      <td>Борская ЦРБ СМП Кантаурово</td>\n",
       "      <td>56.486385</td>\n",
       "      <td>44.039044</td>\n",
       "      <td>0.282816</td>\n",
       "    </tr>\n",
       "    <tr>\n",
       "      <th>10</th>\n",
       "      <td>Борская ЦРБ СМП Линда</td>\n",
       "      <td>Борская ЦРБ СМП Линда</td>\n",
       "      <td>56.614867</td>\n",
       "      <td>44.083484</td>\n",
       "      <td>0.153140</td>\n",
       "    </tr>\n",
       "    <tr>\n",
       "      <th>11</th>\n",
       "      <td>Борская ЦРБ СМП Чисто-Борское</td>\n",
       "      <td>Борская ЦРБ СМП Чисто-Борское</td>\n",
       "      <td>56.249033</td>\n",
       "      <td>44.413993</td>\n",
       "      <td>0.301280</td>\n",
       "    </tr>\n",
       "    <tr>\n",
       "      <th>12</th>\n",
       "      <td>Борская ЦРБ СМП Чистое Поле</td>\n",
       "      <td>Борская ЦРБ СМП Чистое Поле</td>\n",
       "      <td>56.758094</td>\n",
       "      <td>44.035479</td>\n",
       "      <td>0.551029</td>\n",
       "    </tr>\n",
       "    <tr>\n",
       "      <th>13</th>\n",
       "      <td>Вадская ЦРБ</td>\n",
       "      <td>Вадская ЦРБ</td>\n",
       "      <td>55.524923</td>\n",
       "      <td>44.187296</td>\n",
       "      <td>0.270648</td>\n",
       "    </tr>\n",
       "    <tr>\n",
       "      <th>14</th>\n",
       "      <td>Ветлужская ЦРБ</td>\n",
       "      <td>Ветлужская ЦРБ</td>\n",
       "      <td>57.852497</td>\n",
       "      <td>45.769963</td>\n",
       "      <td>0.542311</td>\n",
       "    </tr>\n",
       "    <tr>\n",
       "      <th>15</th>\n",
       "      <td>Володарская ЦРБ</td>\n",
       "      <td>Володарская ЦРБ</td>\n",
       "      <td>56.230554</td>\n",
       "      <td>42.951825</td>\n",
       "      <td>0.288668</td>\n",
       "    </tr>\n",
       "    <tr>\n",
       "      <th>16</th>\n",
       "      <td>Володарская ЦРБ Ильиногорская</td>\n",
       "      <td>Володарская ЦРБ Ильиногорская</td>\n",
       "      <td>56.230554</td>\n",
       "      <td>42.951825</td>\n",
       "      <td>0.540849</td>\n",
       "    </tr>\n",
       "    <tr>\n",
       "      <th>17</th>\n",
       "      <td>Воротынская ЦРБ</td>\n",
       "      <td>Воротынская ЦРБ</td>\n",
       "      <td>56.054238</td>\n",
       "      <td>45.854924</td>\n",
       "      <td>0.141991</td>\n",
       "    </tr>\n",
       "    <tr>\n",
       "      <th>18</th>\n",
       "      <td>Выксунская ЦРБ</td>\n",
       "      <td>Выксунская ЦРБ</td>\n",
       "      <td>55.324066</td>\n",
       "      <td>42.169004</td>\n",
       "      <td>0.287210</td>\n",
       "    </tr>\n",
       "    <tr>\n",
       "      <th>19</th>\n",
       "      <td>Городецкая ЦРБ</td>\n",
       "      <td>Городецкая ЦРБ</td>\n",
       "      <td>56.647515</td>\n",
       "      <td>43.478332</td>\n",
       "      <td>0.162444</td>\n",
       "    </tr>\n",
       "    <tr>\n",
       "      <th>20</th>\n",
       "      <td>Кстовская ЦРБ</td>\n",
       "      <td>Кстовская ЦРБ</td>\n",
       "      <td>56.151863</td>\n",
       "      <td>44.192678</td>\n",
       "      <td>0.365673</td>\n",
       "    </tr>\n",
       "    <tr>\n",
       "      <th>21</th>\n",
       "      <td>Кулебакская ЦРБ</td>\n",
       "      <td>Кулебакская ЦРБ</td>\n",
       "      <td>55.422172</td>\n",
       "      <td>42.528400</td>\n",
       "      <td>0.449828</td>\n",
       "    </tr>\n",
       "    <tr>\n",
       "      <th>22</th>\n",
       "      <td>Лысковская ЦРБ</td>\n",
       "      <td>Лысковская ЦРБ</td>\n",
       "      <td>56.032699</td>\n",
       "      <td>45.042289</td>\n",
       "      <td>0.236667</td>\n",
       "    </tr>\n",
       "    <tr>\n",
       "      <th>23</th>\n",
       "      <td>Навашинская ЦРБ</td>\n",
       "      <td>Навашинская ЦРБ</td>\n",
       "      <td>55.554680</td>\n",
       "      <td>42.187214</td>\n",
       "      <td>0.276092</td>\n",
       "    </tr>\n",
       "    <tr>\n",
       "      <th>24</th>\n",
       "      <td>ПСМП №1</td>\n",
       "      <td>ПСМП №1</td>\n",
       "      <td>56.244610</td>\n",
       "      <td>43.862220</td>\n",
       "      <td>0.499375</td>\n",
       "    </tr>\n",
       "    <tr>\n",
       "      <th>25</th>\n",
       "      <td>ПСМП №2</td>\n",
       "      <td>ПСМП №2</td>\n",
       "      <td>56.316679</td>\n",
       "      <td>43.944836</td>\n",
       "      <td>0.479692</td>\n",
       "    </tr>\n",
       "    <tr>\n",
       "      <th>26</th>\n",
       "      <td>ПСМП №3</td>\n",
       "      <td>ПСМП №3</td>\n",
       "      <td>56.275369</td>\n",
       "      <td>43.923988</td>\n",
       "      <td>0.550865</td>\n",
       "    </tr>\n",
       "    <tr>\n",
       "      <th>27</th>\n",
       "      <td>ПСМП №4</td>\n",
       "      <td>ПСМП №4</td>\n",
       "      <td>56.335046</td>\n",
       "      <td>43.843966</td>\n",
       "      <td>0.379804</td>\n",
       "    </tr>\n",
       "    <tr>\n",
       "      <th>28</th>\n",
       "      <td>ПСМП №5</td>\n",
       "      <td>ПСМП №5</td>\n",
       "      <td>56.309534</td>\n",
       "      <td>44.008762</td>\n",
       "      <td>0.507826</td>\n",
       "    </tr>\n",
       "    <tr>\n",
       "      <th>29</th>\n",
       "      <td>ПСМП №6</td>\n",
       "      <td>ПСМП №6</td>\n",
       "      <td>56.245120</td>\n",
       "      <td>43.976279</td>\n",
       "      <td>0.321999</td>\n",
       "    </tr>\n",
       "    <tr>\n",
       "      <th>30</th>\n",
       "      <td>ПСМП №7</td>\n",
       "      <td>ПСМП №7</td>\n",
       "      <td>56.305943</td>\n",
       "      <td>44.068312</td>\n",
       "      <td>0.569075</td>\n",
       "    </tr>\n",
       "    <tr>\n",
       "      <th>31</th>\n",
       "      <td>ПСМП №8</td>\n",
       "      <td>ПСМП №8</td>\n",
       "      <td>56.350991</td>\n",
       "      <td>43.835226</td>\n",
       "      <td>0.513383</td>\n",
       "    </tr>\n",
       "    <tr>\n",
       "      <th>32</th>\n",
       "      <td>ПСМП №9</td>\n",
       "      <td>ПСМП №9</td>\n",
       "      <td>56.271081</td>\n",
       "      <td>43.893203</td>\n",
       "      <td>0.486711</td>\n",
       "    </tr>\n",
       "    <tr>\n",
       "      <th>33</th>\n",
       "      <td>Павловская ЦРБ</td>\n",
       "      <td>Павловская ЦРБ</td>\n",
       "      <td>55.977920</td>\n",
       "      <td>43.087447</td>\n",
       "      <td>0.222708</td>\n",
       "    </tr>\n",
       "    <tr>\n",
       "      <th>34</th>\n",
       "      <td>Первомайская ЦРБ</td>\n",
       "      <td>Первомайская ЦРБ</td>\n",
       "      <td>54.862886</td>\n",
       "      <td>43.826828</td>\n",
       "      <td>0.238050</td>\n",
       "    </tr>\n",
       "    <tr>\n",
       "      <th>35</th>\n",
       "      <td>Перевозская ЦРБ</td>\n",
       "      <td>Перевозская ЦРБ</td>\n",
       "      <td>55.593847</td>\n",
       "      <td>44.539277</td>\n",
       "      <td>0.230074</td>\n",
       "    </tr>\n",
       "    <tr>\n",
       "      <th>36</th>\n",
       "      <td>Пильнинская ЦРБ</td>\n",
       "      <td>Пильнинская ЦРБ</td>\n",
       "      <td>55.555632</td>\n",
       "      <td>45.910536</td>\n",
       "      <td>0.160390</td>\n",
       "    </tr>\n",
       "    <tr>\n",
       "      <th>37</th>\n",
       "      <td>Семеновская ЦРБ</td>\n",
       "      <td>Семеновская ЦРБ</td>\n",
       "      <td>56.792011</td>\n",
       "      <td>44.484727</td>\n",
       "      <td>0.196201</td>\n",
       "    </tr>\n",
       "    <tr>\n",
       "      <th>38</th>\n",
       "      <td>Сергачская ЦРБ</td>\n",
       "      <td>Сергачская ЦРБ</td>\n",
       "      <td>55.532776</td>\n",
       "      <td>45.467925</td>\n",
       "      <td>0.414418</td>\n",
       "    </tr>\n",
       "    <tr>\n",
       "      <th>39</th>\n",
       "      <td>Сосновская ЦРБ</td>\n",
       "      <td>Сосновская ЦРБ</td>\n",
       "      <td>55.812312</td>\n",
       "      <td>43.176671</td>\n",
       "      <td>0.269121</td>\n",
       "    </tr>\n",
       "    <tr>\n",
       "      <th>40</th>\n",
       "      <td>Спасская ЦРБ</td>\n",
       "      <td>Спасская ЦРБ</td>\n",
       "      <td>55.864629</td>\n",
       "      <td>45.705767</td>\n",
       "      <td>0.483792</td>\n",
       "    </tr>\n",
       "    <tr>\n",
       "      <th>41</th>\n",
       "      <td>Тонкинская ЦРБ</td>\n",
       "      <td>Тонкинская ЦРБ</td>\n",
       "      <td>57.372141</td>\n",
       "      <td>46.470953</td>\n",
       "      <td>0.560707</td>\n",
       "    </tr>\n",
       "    <tr>\n",
       "      <th>42</th>\n",
       "      <td>Уренская ЦРБ</td>\n",
       "      <td>Уренская ЦРБ</td>\n",
       "      <td>57.460336</td>\n",
       "      <td>45.791990</td>\n",
       "      <td>0.266027</td>\n",
       "    </tr>\n",
       "    <tr>\n",
       "      <th>43</th>\n",
       "      <td>Чкаловская ЦРБ</td>\n",
       "      <td>Чкаловская ЦРБ</td>\n",
       "      <td>56.774283</td>\n",
       "      <td>43.243372</td>\n",
       "      <td>0.184411</td>\n",
       "    </tr>\n",
       "    <tr>\n",
       "      <th>44</th>\n",
       "      <td>Шатковская ЦРБ</td>\n",
       "      <td>Шатковская ЦРБ</td>\n",
       "      <td>55.188951</td>\n",
       "      <td>44.139223</td>\n",
       "      <td>0.371522</td>\n",
       "    </tr>\n",
       "    <tr>\n",
       "      <th>45</th>\n",
       "      <td>Шахунская ЦРБ</td>\n",
       "      <td>Шахунская ЦРБ</td>\n",
       "      <td>57.675672</td>\n",
       "      <td>46.603681</td>\n",
       "      <td>0.141937</td>\n",
       "    </tr>\n",
       "  </tbody>\n",
       "</table>\n",
       "</div>"
      ],
      "text/plain": [
       "                        substation                            name   latitude  \\\n",
       "0                  Ардатовская ЦРБ                 Ардатовская ЦРБ  55.236419   \n",
       "1                   Арзамасская РБ                  Арзамасская РБ  55.386209   \n",
       "2                  БСМП г. Арзамас                 БСМП г. Арзамас  55.398313   \n",
       "3    БСМП г. Дзержинск Центральная   БСМП г. Дзержинск Центральная  56.245820   \n",
       "4   БСМП г. Дзержинск Юго-Западная  БСМП г. Дзержинск Юго-Западная  56.223359   \n",
       "5                  Богородская ЦРБ                 Богородская ЦРБ  56.098540   \n",
       "6           Большемурашкинская ЦРБ          Большемурашкинская ЦРБ  55.785696   \n",
       "7                      Борская ЦРБ                     Борская ЦРБ  56.378690   \n",
       "8        Борская ЦРБ СМП Затон ППК       Борская ЦРБ СМП Затон ППК  56.358701   \n",
       "9       Борская ЦРБ СМП Кантаурово      Борская ЦРБ СМП Кантаурово  56.486385   \n",
       "10           Борская ЦРБ СМП Линда           Борская ЦРБ СМП Линда  56.614867   \n",
       "11   Борская ЦРБ СМП Чисто-Борское   Борская ЦРБ СМП Чисто-Борское  56.249033   \n",
       "12     Борская ЦРБ СМП Чистое Поле     Борская ЦРБ СМП Чистое Поле  56.758094   \n",
       "13                     Вадская ЦРБ                     Вадская ЦРБ  55.524923   \n",
       "14                  Ветлужская ЦРБ                  Ветлужская ЦРБ  57.852497   \n",
       "15                 Володарская ЦРБ                 Володарская ЦРБ  56.230554   \n",
       "16   Володарская ЦРБ Ильиногорская   Володарская ЦРБ Ильиногорская  56.230554   \n",
       "17                 Воротынская ЦРБ                 Воротынская ЦРБ  56.054238   \n",
       "18                  Выксунская ЦРБ                  Выксунская ЦРБ  55.324066   \n",
       "19                  Городецкая ЦРБ                  Городецкая ЦРБ  56.647515   \n",
       "20                   Кстовская ЦРБ                   Кстовская ЦРБ  56.151863   \n",
       "21                 Кулебакская ЦРБ                 Кулебакская ЦРБ  55.422172   \n",
       "22                  Лысковская ЦРБ                  Лысковская ЦРБ  56.032699   \n",
       "23                 Навашинская ЦРБ                 Навашинская ЦРБ  55.554680   \n",
       "24                         ПСМП №1                         ПСМП №1  56.244610   \n",
       "25                         ПСМП №2                         ПСМП №2  56.316679   \n",
       "26                         ПСМП №3                         ПСМП №3  56.275369   \n",
       "27                         ПСМП №4                         ПСМП №4  56.335046   \n",
       "28                         ПСМП №5                         ПСМП №5  56.309534   \n",
       "29                         ПСМП №6                         ПСМП №6  56.245120   \n",
       "30                         ПСМП №7                         ПСМП №7  56.305943   \n",
       "31                         ПСМП №8                         ПСМП №8  56.350991   \n",
       "32                         ПСМП №9                         ПСМП №9  56.271081   \n",
       "33                  Павловская ЦРБ                  Павловская ЦРБ  55.977920   \n",
       "34                Первомайская ЦРБ                Первомайская ЦРБ  54.862886   \n",
       "35                 Перевозская ЦРБ                 Перевозская ЦРБ  55.593847   \n",
       "36                 Пильнинская ЦРБ                 Пильнинская ЦРБ  55.555632   \n",
       "37                 Семеновская ЦРБ                 Семеновская ЦРБ  56.792011   \n",
       "38                  Сергачская ЦРБ                  Сергачская ЦРБ  55.532776   \n",
       "39                  Сосновская ЦРБ                  Сосновская ЦРБ  55.812312   \n",
       "40                    Спасская ЦРБ                    Спасская ЦРБ  55.864629   \n",
       "41                  Тонкинская ЦРБ                  Тонкинская ЦРБ  57.372141   \n",
       "42                    Уренская ЦРБ                    Уренская ЦРБ  57.460336   \n",
       "43                  Чкаловская ЦРБ                  Чкаловская ЦРБ  56.774283   \n",
       "44                  Шатковская ЦРБ                  Шатковская ЦРБ  55.188951   \n",
       "45                   Шахунская ЦРБ                   Шахунская ЦРБ  57.675672   \n",
       "\n",
       "    longitude  call_target  \n",
       "0   43.110220     0.455350  \n",
       "1   43.776236     0.372983  \n",
       "2   43.820556     0.355491  \n",
       "3   43.473968     0.386196  \n",
       "4   43.381932     0.408659  \n",
       "5   43.532799     0.418518  \n",
       "6   44.786794     0.324921  \n",
       "7   44.026078     0.526211  \n",
       "8   44.061529     0.191426  \n",
       "9   44.039044     0.282816  \n",
       "10  44.083484     0.153140  \n",
       "11  44.413993     0.301280  \n",
       "12  44.035479     0.551029  \n",
       "13  44.187296     0.270648  \n",
       "14  45.769963     0.542311  \n",
       "15  42.951825     0.288668  \n",
       "16  42.951825     0.540849  \n",
       "17  45.854924     0.141991  \n",
       "18  42.169004     0.287210  \n",
       "19  43.478332     0.162444  \n",
       "20  44.192678     0.365673  \n",
       "21  42.528400     0.449828  \n",
       "22  45.042289     0.236667  \n",
       "23  42.187214     0.276092  \n",
       "24  43.862220     0.499375  \n",
       "25  43.944836     0.479692  \n",
       "26  43.923988     0.550865  \n",
       "27  43.843966     0.379804  \n",
       "28  44.008762     0.507826  \n",
       "29  43.976279     0.321999  \n",
       "30  44.068312     0.569075  \n",
       "31  43.835226     0.513383  \n",
       "32  43.893203     0.486711  \n",
       "33  43.087447     0.222708  \n",
       "34  43.826828     0.238050  \n",
       "35  44.539277     0.230074  \n",
       "36  45.910536     0.160390  \n",
       "37  44.484727     0.196201  \n",
       "38  45.467925     0.414418  \n",
       "39  43.176671     0.269121  \n",
       "40  45.705767     0.483792  \n",
       "41  46.470953     0.560707  \n",
       "42  45.791990     0.266027  \n",
       "43  43.243372     0.184411  \n",
       "44  44.139223     0.371522  \n",
       "45  46.603681     0.141937  "
      ]
     },
     "execution_count": 40,
     "metadata": {},
     "output_type": "execute_result"
    }
   ],
   "source": [
    "test_res"
   ]
  },
  {
   "cell_type": "code",
   "execution_count": 41,
   "metadata": {},
   "outputs": [],
   "source": [
    "# substation\n",
    "# данные по времени\n",
    "# погода (через яндекс апи, брать только НН, каждую минуту)\n",
    "# road_time - накинуть эвристику"
   ]
  },
  {
   "cell_type": "code",
   "execution_count": 42,
   "metadata": {
    "tags": []
   },
   "outputs": [
    {
     "data": {
      "text/plain": [
       "0                     Арзамасская РБ\n",
       "1             Большемурашкинская ЦРБ\n",
       "2                            ПСМП №1\n",
       "3                            ПСМП №7\n",
       "4                            ПСМП №2\n",
       "5                            ПСМП №9\n",
       "6                            ПСМП №8\n",
       "7                            ПСМП №4\n",
       "8                        Борская ЦРБ\n",
       "9                            ПСМП №5\n",
       "10                   БСМП г. Арзамас\n",
       "11                     Кстовская ЦРБ\n",
       "12                           ПСМП №6\n",
       "13                    Павловская ЦРБ\n",
       "14     БСМП г. Дзержинск Центральная\n",
       "15    БСМП г. Дзержинск Юго-Западная\n",
       "16                    Выксунская ЦРБ\n",
       "17                           ПСМП №3\n",
       "18                   Воротынская ЦРБ\n",
       "19                       Вадская ЦРБ\n",
       "20                    Лысковская ЦРБ\n",
       "21                    Сергачская ЦРБ\n",
       "22                   Кулебакская ЦРБ\n",
       "23                   Володарская ЦРБ\n",
       "24                   Пильнинская ЦРБ\n",
       "25                  Первомайская ЦРБ\n",
       "26                   Семеновская ЦРБ\n",
       "27                    Чкаловская ЦРБ\n",
       "28                    Городецкая ЦРБ\n",
       "29                    Сосновская ЦРБ\n",
       "30                   Перевозская ЦРБ\n",
       "31                      Уренская ЦРБ\n",
       "32     Борская ЦРБ СМП Чисто-Борское\n",
       "33     Володарская ЦРБ Ильиногорская\n",
       "34                    Ветлужская ЦРБ\n",
       "35         Борская ЦРБ СМП Затон ППК\n",
       "36        Борская ЦРБ СМП Кантаурово\n",
       "37                   Богородская ЦРБ\n",
       "38                      Спасская ЦРБ\n",
       "39                    Шатковская ЦРБ\n",
       "40                     Шахунская ЦРБ\n",
       "41       Борская ЦРБ СМП Чистое Поле\n",
       "42             Борская ЦРБ СМП Линда\n",
       "43                   Навашинская ЦРБ\n",
       "44                    Тонкинская ЦРБ\n",
       "45                   Ардатовская ЦРБ\n",
       "Name: name, dtype: object"
      ]
     },
     "execution_count": 42,
     "metadata": {},
     "output_type": "execute_result"
    }
   ],
   "source": [
    "substations.name"
   ]
  },
  {
   "cell_type": "code",
   "execution_count": 1183,
   "metadata": {},
   "outputs": [
    {
     "name": "stdout",
     "output_type": "stream",
     "text": [
      "1 Min\n"
     ]
    },
    {
     "ename": "KeyboardInterrupt",
     "evalue": "",
     "output_type": "error",
     "traceback": [
      "\u001b[0;31m---------------------------------------------------------------------------\u001b[0m",
      "\u001b[0;31mKeyboardInterrupt\u001b[0m                         Traceback (most recent call last)",
      "\u001b[0;32m/var/folders/8n/c9njytgn0g778_3wm9c937c80000gn/T/ipykernel_6906/2759075541.py\u001b[0m in \u001b[0;36m<module>\u001b[0;34m\u001b[0m\n\u001b[1;32m      5\u001b[0m \u001b[0;34m\u001b[0m\u001b[0m\n\u001b[1;32m      6\u001b[0m \u001b[0;32mwhile\u001b[0m \u001b[0;32mTrue\u001b[0m\u001b[0;34m:\u001b[0m\u001b[0;34m\u001b[0m\u001b[0;34m\u001b[0m\u001b[0m\n\u001b[0;32m----> 7\u001b[0;31m     \u001b[0mdelta\u001b[0m \u001b[0;34m=\u001b[0m \u001b[0mdt\u001b[0m\u001b[0;34m.\u001b[0m\u001b[0mdatetime\u001b[0m\u001b[0;34m.\u001b[0m\u001b[0mnow\u001b[0m\u001b[0;34m(\u001b[0m\u001b[0;34m)\u001b[0m\u001b[0;34m-\u001b[0m\u001b[0mt\u001b[0m\u001b[0;34m\u001b[0m\u001b[0;34m\u001b[0m\u001b[0m\n\u001b[0m\u001b[1;32m      8\u001b[0m     \u001b[0;32mif\u001b[0m \u001b[0mdelta\u001b[0m\u001b[0;34m.\u001b[0m\u001b[0mseconds\u001b[0m \u001b[0;34m>=\u001b[0m \u001b[0;36m60\u001b[0m\u001b[0;34m:\u001b[0m\u001b[0;34m\u001b[0m\u001b[0;34m\u001b[0m\u001b[0m\n\u001b[1;32m      9\u001b[0m         \u001b[0mprint\u001b[0m\u001b[0;34m(\u001b[0m\u001b[0;34m\"1 Min\"\u001b[0m\u001b[0;34m)\u001b[0m\u001b[0;34m\u001b[0m\u001b[0;34m\u001b[0m\u001b[0m\n",
      "\u001b[0;31mKeyboardInterrupt\u001b[0m: "
     ]
    }
   ],
   "source": [
    "import datetime as dt\n",
    "\n",
    "# Save the current time to a variable ('t')\n",
    "t = dt.datetime.now()\n",
    "\n",
    "while True:\n",
    "    delta = dt.datetime.now()-t\n",
    "    if delta.seconds >= 60:\n",
    "        print(\"1 Min\")\n",
    "        # Update 't' variable to new time\n",
    "        t = dt.datetime.now()"
   ]
  },
  {
   "cell_type": "code",
   "execution_count": null,
   "metadata": {},
   "outputs": [],
   "source": []
  },
  {
   "cell_type": "markdown",
   "metadata": {
    "tags": []
   },
   "source": [
    "## Предсказание тяжести"
   ]
  },
  {
   "cell_type": "code",
   "execution_count": 1155,
   "metadata": {},
   "outputs": [],
   "source": [
    "first_occasions = pd.read_csv('Первичные признаки - Лист1.csv')\n",
    "first_occasions = first_occasions.rename(columns={'Тяжесть (0 - норма, 1 - тяжелое)':'heaviness',\n",
    "                                                  'Признаки':'occasion'})\n",
    "first_occasions = first_occasions[['occasion', 'heaviness']]\n",
    "first_occasions = first_occasions[first_occasions.heaviness.notnull()]"
   ]
  },
  {
   "cell_type": "code",
   "execution_count": 1159,
   "metadata": {},
   "outputs": [],
   "source": [
    "data = pd.merge(data, first_occasions, how='left', on='occasion')"
   ]
  },
  {
   "cell_type": "code",
   "execution_count": 1176,
   "metadata": {},
   "outputs": [],
   "source": [
    "random_data['heaviness'] = 0\n",
    "\n",
    "train_data = pd.concat([data[data.heaviness.notnull()], random_data])[['road_time', \n",
    "                                             'weekday', 'day', 'week', 'month', 'holiday', \n",
    "                                             'T', 'Tg', 'Po', 'Pa', 'U', 'ff3', 'substation', 'heaviness']]\n",
    "\n",
    "cat_features = ['substation', 'holiday']\n",
    "train_data[cat_features] = train_data[cat_features].fillna('')\n",
    "train_data.heaviness = train_data.heaviness.astype(int)"
   ]
  },
  {
   "cell_type": "code",
   "execution_count": 1177,
   "metadata": {},
   "outputs": [
    {
     "data": {
      "text/plain": [
       "0+ПСМП №3                  4425\n",
       "0+ПСМП №7                  4030\n",
       "0+ПСМП №1                  3741\n",
       "0+ПСМП №5                  3667\n",
       "0+ПСМП №9                  3256\n",
       "                           ... \n",
       "0+Ардатовская ЦРБ             2\n",
       "1+Тонкинская ЦРБ              1\n",
       "1+Борская ЦРБ СМП Линда       1\n",
       "1+Ардатовская ЦРБ             1\n",
       "0+Тонкинская ЦРБ              1\n",
       "Length: 88, dtype: int64"
      ]
     },
     "execution_count": 1177,
     "metadata": {},
     "output_type": "execute_result"
    }
   ],
   "source": [
    "(train_data['heaviness'].astype(str) + '+' + train_data['substation']).value_counts()"
   ]
  },
  {
   "cell_type": "code",
   "execution_count": 1178,
   "metadata": {},
   "outputs": [],
   "source": [
    "X_train, X_val, y_train, y_val = train_test_split(train_data.drop(['heaviness'], axis=1),\n",
    "                                                  train_data['heaviness'],\n",
    "                                                  stratify=train_data.substation,\n",
    "                                                  # stratify=train_data['call_target'].astype(str) + '+' + train_data['substation'],\n",
    "                                                  test_size=0.25)"
   ]
  },
  {
   "cell_type": "code",
   "execution_count": 1179,
   "metadata": {},
   "outputs": [
    {
     "name": "stderr",
     "output_type": "stream",
     "text": [
      "Custom logger is already specified. Specify more than one logger at same time is not thread safe."
     ]
    },
    {
     "name": "stdout",
     "output_type": "stream",
     "text": [
      "Learning rate set to 0.085274\n",
      "0:\tlearn: 0.6740234\ttest: 0.6739612\tbest: 0.6739612 (0)\ttotal: 19.9ms\tremaining: 19.9s\n",
      "100:\tlearn: 0.5546803\ttest: 0.5564104\tbest: 0.5563937 (97)\ttotal: 2.24s\tremaining: 19.9s\n",
      "200:\tlearn: 0.5457281\ttest: 0.5527205\tbest: 0.5527193 (198)\ttotal: 4.45s\tremaining: 17.7s\n",
      "300:\tlearn: 0.5396251\ttest: 0.5521404\tbest: 0.5521125 (297)\ttotal: 6.71s\tremaining: 15.6s\n",
      "400:\tlearn: 0.5349717\ttest: 0.5519363\tbest: 0.5519095 (391)\ttotal: 8.95s\tremaining: 13.4s\n",
      "500:\tlearn: 0.5305217\ttest: 0.5519196\tbest: 0.5517731 (432)\ttotal: 11.3s\tremaining: 11.2s\n",
      "600:\tlearn: 0.5267281\ttest: 0.5520322\tbest: 0.5517731 (432)\ttotal: 13.5s\tremaining: 8.98s\n",
      "700:\tlearn: 0.5229613\ttest: 0.5522024\tbest: 0.5517731 (432)\ttotal: 15.9s\tremaining: 6.78s\n",
      "800:\tlearn: 0.5193957\ttest: 0.5525548\tbest: 0.5517731 (432)\ttotal: 18.5s\tremaining: 4.6s\n",
      "900:\tlearn: 0.5159913\ttest: 0.5528804\tbest: 0.5517731 (432)\ttotal: 21.2s\tremaining: 2.33s\n",
      "999:\tlearn: 0.5129854\ttest: 0.5531706\tbest: 0.5517731 (432)\ttotal: 23.8s\tremaining: 0us\n",
      "\n",
      "bestTest = 0.5517731471\n",
      "bestIteration = 432\n",
      "\n",
      "Shrink model to first 433 iterations.\n"
     ]
    },
    {
     "data": {
      "text/plain": [
       "<catboost.core.CatBoostClassifier at 0x1d2f46910>"
      ]
     },
     "execution_count": 1179,
     "metadata": {},
     "output_type": "execute_result"
    }
   ],
   "source": [
    "model = CatBoostClassifier(verbose=100, cat_features=cat_features)\n",
    "model.fit(X_train, y_train, eval_set=(X_val, y_val))"
   ]
  },
  {
   "cell_type": "code",
   "execution_count": 1180,
   "metadata": {},
   "outputs": [
    {
     "name": "stdout",
     "output_type": "stream",
     "text": [
      "              precision    recall  f1-score   support\n",
      "\n",
      "           0       0.73      0.99      0.85     13452\n",
      "           1       0.44      0.01      0.03      4889\n",
      "\n",
      "    accuracy                           0.73     18341\n",
      "   macro avg       0.59      0.50      0.44     18341\n",
      "weighted avg       0.66      0.73      0.63     18341\n",
      "\n"
     ]
    }
   ],
   "source": [
    "print(classification_report(y_val, model.predict(X_val)))"
   ]
  },
  {
   "cell_type": "code",
   "execution_count": 1181,
   "metadata": {},
   "outputs": [],
   "source": [
    "fip = pd.DataFrame()\n",
    "fip['feature'] = model.feature_names_\n",
    "fip['importance'] = model.get_feature_importance()\n",
    "fip = fip.sort_values('importance', ascending=False)"
   ]
  },
  {
   "cell_type": "code",
   "execution_count": 1182,
   "metadata": {},
   "outputs": [
    {
     "data": {
      "text/html": [
       "<div>\n",
       "<style scoped>\n",
       "    .dataframe tbody tr th:only-of-type {\n",
       "        vertical-align: middle;\n",
       "    }\n",
       "\n",
       "    .dataframe tbody tr th {\n",
       "        vertical-align: top;\n",
       "    }\n",
       "\n",
       "    .dataframe thead th {\n",
       "        text-align: right;\n",
       "    }\n",
       "</style>\n",
       "<table border=\"1\" class=\"dataframe\">\n",
       "  <thead>\n",
       "    <tr style=\"text-align: right;\">\n",
       "      <th></th>\n",
       "      <th>road_time</th>\n",
       "      <th>weekday</th>\n",
       "      <th>day</th>\n",
       "      <th>week</th>\n",
       "      <th>month</th>\n",
       "      <th>holiday</th>\n",
       "      <th>T</th>\n",
       "      <th>Tg</th>\n",
       "      <th>Po</th>\n",
       "      <th>Pa</th>\n",
       "      <th>U</th>\n",
       "      <th>ff3</th>\n",
       "      <th>substation</th>\n",
       "    </tr>\n",
       "  </thead>\n",
       "  <tbody>\n",
       "    <tr>\n",
       "      <th>35855</th>\n",
       "      <td>18.983333</td>\n",
       "      <td>1</td>\n",
       "      <td>17</td>\n",
       "      <td>20</td>\n",
       "      <td>5</td>\n",
       "      <td></td>\n",
       "      <td>-0.2</td>\n",
       "      <td>NaN</td>\n",
       "      <td>745.3</td>\n",
       "      <td>0.0</td>\n",
       "      <td>45</td>\n",
       "      <td>4.0</td>\n",
       "      <td>ПСМП №1</td>\n",
       "    </tr>\n",
       "  </tbody>\n",
       "</table>\n",
       "</div>"
      ],
      "text/plain": [
       "       road_time  weekday  day  week  month holiday    T  Tg     Po   Pa   U  \\\n",
       "35855  18.983333        1   17    20      5         -0.2 NaN  745.3  0.0  45   \n",
       "\n",
       "       ff3 substation  \n",
       "35855  4.0    ПСМП №1  "
      ]
     },
     "execution_count": 1182,
     "metadata": {},
     "output_type": "execute_result"
    }
   ],
   "source": [
    "X_train.head(1)"
   ]
  },
  {
   "cell_type": "code",
   "execution_count": 1141,
   "metadata": {},
   "outputs": [
    {
     "data": {
      "text/html": [
       "<div>\n",
       "<style scoped>\n",
       "    .dataframe tbody tr th:only-of-type {\n",
       "        vertical-align: middle;\n",
       "    }\n",
       "\n",
       "    .dataframe tbody tr th {\n",
       "        vertical-align: top;\n",
       "    }\n",
       "\n",
       "    .dataframe thead th {\n",
       "        text-align: right;\n",
       "    }\n",
       "</style>\n",
       "<table border=\"1\" class=\"dataframe\">\n",
       "  <thead>\n",
       "    <tr style=\"text-align: right;\">\n",
       "      <th></th>\n",
       "      <th>feature</th>\n",
       "      <th>importance</th>\n",
       "    </tr>\n",
       "  </thead>\n",
       "  <tbody>\n",
       "    <tr>\n",
       "      <th>0</th>\n",
       "      <td>road_time</td>\n",
       "      <td>32.202826</td>\n",
       "    </tr>\n",
       "    <tr>\n",
       "      <th>12</th>\n",
       "      <td>substation</td>\n",
       "      <td>25.126436</td>\n",
       "    </tr>\n",
       "    <tr>\n",
       "      <th>2</th>\n",
       "      <td>day</td>\n",
       "      <td>7.244547</td>\n",
       "    </tr>\n",
       "    <tr>\n",
       "      <th>3</th>\n",
       "      <td>week</td>\n",
       "      <td>5.226314</td>\n",
       "    </tr>\n",
       "    <tr>\n",
       "      <th>9</th>\n",
       "      <td>Pa</td>\n",
       "      <td>4.852824</td>\n",
       "    </tr>\n",
       "    <tr>\n",
       "      <th>6</th>\n",
       "      <td>T</td>\n",
       "      <td>4.766593</td>\n",
       "    </tr>\n",
       "    <tr>\n",
       "      <th>8</th>\n",
       "      <td>Po</td>\n",
       "      <td>4.647524</td>\n",
       "    </tr>\n",
       "    <tr>\n",
       "      <th>1</th>\n",
       "      <td>weekday</td>\n",
       "      <td>3.744675</td>\n",
       "    </tr>\n",
       "    <tr>\n",
       "      <th>10</th>\n",
       "      <td>U</td>\n",
       "      <td>3.326814</td>\n",
       "    </tr>\n",
       "    <tr>\n",
       "      <th>5</th>\n",
       "      <td>holiday</td>\n",
       "      <td>3.269516</td>\n",
       "    </tr>\n",
       "    <tr>\n",
       "      <th>4</th>\n",
       "      <td>month</td>\n",
       "      <td>2.997107</td>\n",
       "    </tr>\n",
       "    <tr>\n",
       "      <th>11</th>\n",
       "      <td>ff3</td>\n",
       "      <td>2.303247</td>\n",
       "    </tr>\n",
       "    <tr>\n",
       "      <th>7</th>\n",
       "      <td>Tg</td>\n",
       "      <td>0.291578</td>\n",
       "    </tr>\n",
       "  </tbody>\n",
       "</table>\n",
       "</div>"
      ],
      "text/plain": [
       "       feature  importance\n",
       "0    road_time   32.202826\n",
       "12  substation   25.126436\n",
       "2          day    7.244547\n",
       "3         week    5.226314\n",
       "9           Pa    4.852824\n",
       "6            T    4.766593\n",
       "8           Po    4.647524\n",
       "1      weekday    3.744675\n",
       "10           U    3.326814\n",
       "5      holiday    3.269516\n",
       "4        month    2.997107\n",
       "11         ff3    2.303247\n",
       "7           Tg    0.291578"
      ]
     },
     "execution_count": 1141,
     "metadata": {},
     "output_type": "execute_result"
    }
   ],
   "source": [
    "fip"
   ]
  },
  {
   "cell_type": "code",
   "execution_count": null,
   "metadata": {},
   "outputs": [],
   "source": []
  },
  {
   "cell_type": "code",
   "execution_count": null,
   "metadata": {},
   "outputs": [],
   "source": []
  },
  {
   "cell_type": "code",
   "execution_count": null,
   "metadata": {},
   "outputs": [],
   "source": []
  },
  {
   "cell_type": "markdown",
   "metadata": {
    "tags": []
   },
   "source": [
    "# Координаты по адресам"
   ]
  },
  {
   "cell_type": "code",
   "execution_count": 127,
   "metadata": {},
   "outputs": [],
   "source": [
    "nn_substations = ['ПСМП №5', 'ПСМП №7', 'ПСМП №1', 'ПСМП №3', 'ПСМП №8', 'ПСМП №4', 'ПСМП №2', 'ПСМП №9', 'ПСМП №6']"
   ]
  },
  {
   "cell_type": "code",
   "execution_count": 128,
   "metadata": {},
   "outputs": [],
   "source": [
    "may_data = data[(data.date >= pd.to_datetime('2022-05-01'))].copy()"
   ]
  },
  {
   "cell_type": "code",
   "execution_count": 129,
   "metadata": {},
   "outputs": [],
   "source": [
    "nn_addresses = may_data[may_data.substation.isin(nn_substations)\n",
    "                        &(may_data.adress.notnull())].adress.apply(lambda x: ', '.join(x.split(', ')[:3]))"
   ]
  },
  {
   "cell_type": "code",
   "execution_count": 130,
   "metadata": {},
   "outputs": [],
   "source": [
    "may_data.loc[may_data.substation.isin(nn_substations)&(may_data.adress.notnull()), 'nn_address'] = nn_addresses"
   ]
  },
  {
   "cell_type": "code",
   "execution_count": 131,
   "metadata": {},
   "outputs": [],
   "source": [
    "nn_addresses = nn_addresses.unique()"
   ]
  },
  {
   "cell_type": "code",
   "execution_count": 132,
   "metadata": {},
   "outputs": [
    {
     "data": {
      "text/plain": [
       "1083"
      ]
     },
     "execution_count": 132,
     "metadata": {},
     "output_type": "execute_result"
    }
   ],
   "source": [
    "len(nn_addresses)"
   ]
  },
  {
   "cell_type": "code",
   "execution_count": 133,
   "metadata": {},
   "outputs": [
    {
     "name": "stdout",
     "output_type": "stream",
     "text": [
      "г.Нижний Новгород, ул. 40 лет Победы, д.7\n"
     ]
    }
   ],
   "source": [
    "temp_address = nn_addresses[1]\n",
    "print(temp_address)"
   ]
  },
  {
   "cell_type": "code",
   "execution_count": 134,
   "metadata": {},
   "outputs": [],
   "source": [
    "# from geopy.geocoders import Yandex\n",
    "# import time\n",
    "# geolocator = Yandex('74dc0c13-a2df-42dc-b5ca-c4d3d306ae4d')\n",
    "\n",
    "# locations = []\n",
    "\n",
    "# for temp_address in tqdm(nn_addresses):\n",
    "#     location = geolocator.geocode(temp_address)\n",
    "#     if len(location) > 0 and len(location[1]) == 2:\n",
    "#         locations.append((location.latitude, location.longitude))\n",
    "#     else:\n",
    "#         locations.append((0, 0))"
   ]
  },
  {
   "cell_type": "code",
   "execution_count": 135,
   "metadata": {},
   "outputs": [],
   "source": [
    "# locs = pd.DataFrame()\n",
    "# locs['nn_address'] = nn_addresses\n",
    "# locs['nn_coords'] = locations\n",
    "# locs['latitude'] = locs.nn_coords.apply(lambda x: x[0])\n",
    "# locs['longitude'] = locs.nn_coords.apply(lambda x: x[1])"
   ]
  },
  {
   "cell_type": "code",
   "execution_count": 136,
   "metadata": {},
   "outputs": [],
   "source": [
    "# locs = locs[(locs.latitude > 50)&(locs.latitude < 60)\n",
    "#             &(locs.longitude > 39)&(locs.longitude < 50)].reset_index(drop=True)"
   ]
  },
  {
   "cell_type": "code",
   "execution_count": 137,
   "metadata": {},
   "outputs": [],
   "source": [
    "# locs.to_csv('nn_coords', index=False)"
   ]
  },
  {
   "cell_type": "code",
   "execution_count": 138,
   "metadata": {},
   "outputs": [],
   "source": [
    "locs = pd.read_csv('nn_coords')"
   ]
  },
  {
   "cell_type": "code",
   "execution_count": 139,
   "metadata": {},
   "outputs": [],
   "source": [
    "may_data = pd.merge(may_data, locs, on='nn_address', how='inner')"
   ]
  },
  {
   "cell_type": "code",
   "execution_count": 144,
   "metadata": {},
   "outputs": [],
   "source": [
    "# may_data.coords = may_data.coords.apply(lambda x: tuple([float(x.split(',' )[0][1:]), float(x.split(',' )[1][:-1])]))\n",
    "# may_data.nn_coords = may_data.nn_coords.apply(lambda x: tuple([float(x.split(',' )[0][1:]), float(x.split(',' )[1][:-1])]))"
   ]
  },
  {
   "cell_type": "code",
   "execution_count": 146,
   "metadata": {},
   "outputs": [],
   "source": [
    "may_data['dist'] = may_data[['coords', 'nn_coords']].apply(lambda x: haversine(x[0], x[1]), axis=1)"
   ]
  },
  {
   "cell_type": "code",
   "execution_count": 98,
   "metadata": {},
   "outputs": [],
   "source": [
    "may_data.to_csv('may_data.csv', index=False)"
   ]
  },
  {
   "cell_type": "code",
   "execution_count": null,
   "metadata": {},
   "outputs": [],
   "source": []
  },
  {
   "cell_type": "code",
   "execution_count": null,
   "metadata": {},
   "outputs": [],
   "source": []
  }
 ],
 "metadata": {
  "kernelspec": {
   "display_name": "Python 3 (ipykernel)",
   "language": "python",
   "name": "python3"
  },
  "language_info": {
   "codemirror_mode": {
    "name": "ipython",
    "version": 3
   },
   "file_extension": ".py",
   "mimetype": "text/x-python",
   "name": "python",
   "nbconvert_exporter": "python",
   "pygments_lexer": "ipython3",
   "version": "3.9.5"
  }
 },
 "nbformat": 4,
 "nbformat_minor": 4
}
